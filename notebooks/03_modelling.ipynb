{
 "cells": [
  {
   "cell_type": "markdown",
   "id": "34737240-e084-4672-af24-73394c82ae42",
   "metadata": {},
   "source": [
    "# Part III: Modelling"
   ]
  },
  {
   "attachments": {},
   "cell_type": "markdown",
   "id": "d5b28a5b-43f3-4dfc-b5d8-b69bb5e705f0",
   "metadata": {},
   "source": [
    "## Content:\n",
    "1. Basic settings\n",
    "2. Split train and validation data for timeseries\n",
    "3. Simple model\n",
    "4. Features selection\n",
    "5. Better model"
   ]
  },
  {
   "cell_type": "markdown",
   "id": "02c04859-04c9-44b9-b2c9-9ae7996b2d89",
   "metadata": {},
   "source": [
    "## 1. Basic settings"
   ]
  },
  {
   "cell_type": "code",
   "execution_count": 1,
   "id": "c9225f04-a3ba-4f3b-aa09-7cad99773d55",
   "metadata": {},
   "outputs": [],
   "source": [
    "# Basic libs\n",
    "from pathlib import Path\n",
    "\n",
    "import lightgbm as lgb\n",
    "import matplotlib.pyplot as plt\n",
    "import numpy as np\n",
    "import pandas as pd\n",
    "import seaborn as sns\n",
    "import shap\n",
    "from sklearn.metrics import make_scorer\n",
    "from sklearn.model_selection import GridSearchCV, RandomizedSearchCV, TimeSeriesSplit\n",
    "from tqdm import tqdm\n",
    "\n",
    "# pandas options\n",
    "pd.options.display.max_columns = 20\n",
    "pd.options.display.max_rows = 150"
   ]
  },
  {
   "cell_type": "code",
   "execution_count": 2,
   "id": "61763223-44e6-4784-a188-a18dd9d934a2",
   "metadata": {},
   "outputs": [],
   "source": [
    "SALES_DATA_PATH = Path(\"../data/preprocessed-data/sales_data_preprocessed.csv\")\n",
    "# FEATURES_DATA_PATH = Path(\"../data/preprocessed-data/data_additional_featues.feather\")\n",
    "num_features = 45\n",
    "FEATURES_DATA_PATH = Path(f\"../data/preprocessed-data/data_additional_{num_features}_features.feather\")\n",
    "df_sales = pd.read_csv(SALES_DATA_PATH, parse_dates=[\"date\"])\n",
    "df_features = pd.read_feather(FEATURES_DATA_PATH)"
   ]
  },
  {
   "cell_type": "code",
   "execution_count": 3,
   "id": "fae4229b-a3da-4273-9ba9-1f2aac9ed89f",
   "metadata": {},
   "outputs": [
    {
     "name": "stdout",
     "output_type": "stream",
     "text": [
      "<class 'pandas.core.frame.DataFrame'>\n",
      "RangeIndex: 365500 entries, 0 to 365499\n",
      "Data columns (total 4 columns):\n",
      " #   Column  Non-Null Count   Dtype         \n",
      "---  ------  --------------   -----         \n",
      " 0   date    365500 non-null  datetime64[ns]\n",
      " 1   store   365500 non-null  int64         \n",
      " 2   item    365500 non-null  int64         \n",
      " 3   sales   365500 non-null  float64       \n",
      "dtypes: datetime64[ns](1), float64(1), int64(2)\n",
      "memory usage: 11.2 MB\n"
     ]
    }
   ],
   "source": [
    "df_sales.info()"
   ]
  },
  {
   "cell_type": "code",
   "execution_count": 4,
   "id": "806b5ceb-e70a-41f8-aade-d75bb6b53172",
   "metadata": {},
   "outputs": [
    {
     "name": "stdout",
     "output_type": "stream",
     "text": [
      "<class 'pandas.core.frame.DataFrame'>\n",
      "Int64Index: 365500 entries, 0 to 365499\n",
      "Data columns (total 45 columns):\n",
      " #   Column                     Non-Null Count   Dtype         \n",
      "---  ------                     --------------   -----         \n",
      " 0   date                       365500 non-null  datetime64[ns]\n",
      " 1   store                      365500 non-null  int64         \n",
      " 2   item                       365500 non-null  int64         \n",
      " 3   sales                      365500 non-null  float64       \n",
      " 4   last_1_days_sales          365000 non-null  float64       \n",
      " 5   last_7_days_sales          362000 non-null  float64       \n",
      " 6   last_14_days_sales         358500 non-null  float64       \n",
      " 7   last_21_days_sales         355000 non-null  float64       \n",
      " 8   last_28_days_sales         351500 non-null  float64       \n",
      " 9   last_90_days_sales         320500 non-null  float64       \n",
      " 10  last_180_days_sales        275500 non-null  float64       \n",
      " 11  recent_7_days_mean_sales   362500 non-null  float64       \n",
      " 12  recent_7_days_min_sales    362500 non-null  float64       \n",
      " 13  recent_7_day_max_sales     362500 non-null  float64       \n",
      " 14  recent_7_day_std_sales     362500 non-null  float64       \n",
      " 15  recent_14_days_mean_sales  359000 non-null  float64       \n",
      " 16  recent_14_days_min_sales   359000 non-null  float64       \n",
      " 17  recent_14_day_max_sales    359000 non-null  float64       \n",
      " 18  recent_14_day_std_sales    359000 non-null  float64       \n",
      " 19  recent_28_days_mean_sales  352000 non-null  float64       \n",
      " 20  recent_28_days_min_sales   352000 non-null  float64       \n",
      " 21  recent_28_day_max_sales    352000 non-null  float64       \n",
      " 22  recent_28_day_std_sales    352000 non-null  float64       \n",
      " 23  recent_60_days_mean_sales  336000 non-null  float64       \n",
      " 24  recent_60_days_min_sales   336000 non-null  float64       \n",
      " 25  recent_60_day_max_sales    336000 non-null  float64       \n",
      " 26  recent_60_day_std_sales    336000 non-null  float64       \n",
      " 27  recent_90_days_mean_sales  321000 non-null  float64       \n",
      " 28  recent_90_days_min_sales   321000 non-null  float64       \n",
      " 29  recent_90_day_max_sales    321000 non-null  float64       \n",
      " 30  recent_90_day_std_sales    321000 non-null  float64       \n",
      " 31  sum_7_days_store_sales     362000 non-null  float64       \n",
      " 32  mean_7_days_store_sales    362000 non-null  float64       \n",
      " 33  sum_7_days_item_sales      362000 non-null  float64       \n",
      " 34  mean_7_days_item_sales     362000 non-null  float64       \n",
      " 35  sum_14_days_store_sales    358500 non-null  float64       \n",
      " 36  mean_14_days_store_sales   358500 non-null  float64       \n",
      " 37  sum_14_days_item_sales     358500 non-null  float64       \n",
      " 38  mean_14_days_item_sales    358500 non-null  float64       \n",
      " 39  sum_30_days_store_sales    350500 non-null  float64       \n",
      " 40  mean_30_days_store_sales   350500 non-null  float64       \n",
      " 41  sum_30_days_item_sales     350500 non-null  float64       \n",
      " 42  mean_30_days_item_sales    350500 non-null  float64       \n",
      " 43  temperature                365500 non-null  float64       \n",
      " 44  humidity                   365500 non-null  float64       \n",
      "dtypes: datetime64[ns](1), float64(42), int64(2)\n",
      "memory usage: 128.3 MB\n"
     ]
    }
   ],
   "source": [
    "df_features.info()"
   ]
  },
  {
   "cell_type": "markdown",
   "id": "4803bb85-bb3f-4933-83f6-16761813e119",
   "metadata": {},
   "source": [
    "## 2. Split train and validation data for ts"
   ]
  },
  {
   "cell_type": "code",
   "execution_count": 5,
   "id": "ffd69f72-def3-4040-a593-caa88a849e47",
   "metadata": {},
   "outputs": [],
   "source": [
    "def split_time_series_data(df, target_col=\"sales\", date_col=\"date\", split_date=None):\n",
    "    \"\"\"\n",
    "    Split time series data into training and validation sets based on a specified date.\n",
    "\n",
    "    Parameters:\n",
    "    - df (pd.DataFrame): The time series DataFrame sorted by date.\n",
    "    - target_col (str): The name of the target variable. Default is \"sales\".\n",
    "    - date_col (str): The name of the date column. Default is \"date\".\n",
    "    - split_date (str): The date used to split the data into training and validation sets.\n",
    "\n",
    "    Returns:\n",
    "    - pd.DataFrame, pd.Series, pd.DataFrame, pd.Series: X_train, y_train, X_val, y_val\n",
    "\n",
    "    Example:\n",
    "    ```python\n",
    "    # Assuming df_preprocessed is the time series DataFrame\n",
    "    X_train, y_train, X_val, y_val = split_time_series_data(df_preprocessed, split_date='2017-10-01')\n",
    "    ```\n",
    "\n",
    "    Note:\n",
    "    - Make sure that the DataFrame is sorted by date before using this function.\n",
    "    \"\"\"\n",
    "    # Ensure the DataFrame is sorted by date\n",
    "    df_sorted = df.sort_values(date_col).reset_index(drop=True)\n",
    "\n",
    "    # Train-Validation Split\n",
    "    train_set = df_sorted.loc[df_sorted[date_col] < split_date, :]\n",
    "    val_set = df_sorted.loc[\n",
    "        (df_sorted[date_col] >= split_date)\n",
    "        & (df_sorted[date_col] <= df_sorted[date_col].max()),\n",
    "        :,\n",
    "    ]\n",
    "\n",
    "    # Extract features and target variables\n",
    "    feature_cols = [\n",
    "        col for col in df_sorted.columns if col not in [date_col, target_col]\n",
    "    ]\n",
    "\n",
    "    X_train = train_set[feature_cols]\n",
    "    X_val = val_set[feature_cols]\n",
    "    y_val = val_set[target_col]\n",
    "    y_train = train_set[target_col]\n",
    "\n",
    "    return X_train, X_val, y_train, y_val"
   ]
  },
  {
   "cell_type": "code",
   "execution_count": 6,
   "id": "34025a8b-02dc-428a-b5aa-27d2d92f823b",
   "metadata": {},
   "outputs": [],
   "source": [
    "X_train, X_val, y_train, y_val = split_time_series_data(\n",
    "    df_features, split_date=\"2017-10-01\"\n",
    ")"
   ]
  },
  {
   "cell_type": "code",
   "execution_count": 7,
   "id": "a502fcfe-ed16-4f6c-aa13-61c96c27d58c",
   "metadata": {},
   "outputs": [
    {
     "data": {
      "text/plain": [
       "((319500, 43), (319500,), (46000, 43), (46000,))"
      ]
     },
     "execution_count": 7,
     "metadata": {},
     "output_type": "execute_result"
    }
   ],
   "source": [
    "X_train.shape, y_train.shape, X_val.shape, y_val.shape"
   ]
  },
  {
   "cell_type": "markdown",
   "id": "8b88c3a9-bd79-4312-89ca-a95ec667522a",
   "metadata": {},
   "source": [
    "## 3. Simple model"
   ]
  },
  {
   "cell_type": "markdown",
   "id": "68fef016-b690-4635-8c78-87fdb15aed6c",
   "metadata": {},
   "source": [
    "### 3.1. Define the custom evaluation function for SMAPE"
   ]
  },
  {
   "cell_type": "code",
   "execution_count": 8,
   "id": "25d4a5d3-4c57-4d05-88ad-afa380e5e6e1",
   "metadata": {},
   "outputs": [],
   "source": [
    "def symmetric_mean_absolute_percentage_error(predictions, targets):\n",
    "    \"\"\"\n",
    "    Calculate Symmetric Mean Absolute Percentage Error (SMAPE).\n",
    "\n",
    "    Parameters:\n",
    "    - predictions: Predicted values.\n",
    "    - targets: Actual target values.\n",
    "\n",
    "    Returns:\n",
    "    - SMAPE value.\n",
    "    \"\"\"\n",
    "    non_zero_mask = ~((predictions == 0) & (targets == 0))\n",
    "    predictions, targets = predictions[non_zero_mask], targets[non_zero_mask]\n",
    "\n",
    "    absolute_errors = np.abs(predictions - targets)\n",
    "    absolute_sum = np.abs(predictions) + np.abs(targets)\n",
    "\n",
    "    smape_value = 200 * np.mean(absolute_errors / absolute_sum)\n",
    "    return smape_value"
   ]
  },
  {
   "cell_type": "code",
   "execution_count": 9,
   "id": "ab76b1a3-1ac5-4734-8d98-754bcea1d539",
   "metadata": {},
   "outputs": [
    {
     "name": "stdout",
     "output_type": "stream",
     "text": [
      "Predictions: [20 30 40 50]\n",
      "Targets: [25 35 45 55]\n",
      "SMAPE: 14.723838253250019\n"
     ]
    }
   ],
   "source": [
    "# Sample check\n",
    "predictions = np.array([20, 30, 40, 50])\n",
    "targets = np.array([25, 35, 45, 55])\n",
    "\n",
    "# Calculate SMAPE\n",
    "smape_value = symmetric_mean_absolute_percentage_error(predictions, targets)\n",
    "\n",
    "# Print the results\n",
    "print(\"Predictions:\", predictions)\n",
    "print(\"Targets:\", targets)\n",
    "print(\"SMAPE:\", smape_value)"
   ]
  },
  {
   "cell_type": "code",
   "execution_count": 10,
   "id": "2ad9be9b-c30d-4c5e-954e-03d6e785e0d2",
   "metadata": {},
   "outputs": [],
   "source": [
    "def lgbm_smape_evaluation(y_true, y_pred):\n",
    "    \"\"\"\n",
    "    LightGBM custom evaluation function for SMAPE.\n",
    "\n",
    "    Parameters:\n",
    "    - y_true: Actual target values.\n",
    "    - y_pred: Predicted values.\n",
    "\n",
    "    Returns:\n",
    "    - Tuple containing evaluation metric name, SMAPE value\n",
    "    \"\"\"\n",
    "    smape_value = symmetric_mean_absolute_percentage_error(y_true, y_pred)\n",
    "    return smape_value"
   ]
  },
  {
   "cell_type": "markdown",
   "id": "7ba3e7d1-21f6-4938-b23b-266421f288c6",
   "metadata": {},
   "source": [
    "### 3.2. Train a simple model"
   ]
  },
  {
   "cell_type": "code",
   "execution_count": 11,
   "id": "0f977aa8-8ac8-4432-ae8e-d699177ace2c",
   "metadata": {},
   "outputs": [],
   "source": [
    "def train_and_evaluate_lgbm(\n",
    "    X_train, y_train, X_val, y_val, custom_metric, model_params=None\n",
    "):\n",
    "    \"\"\"\n",
    "    Create, train, and evaluate the LightGBM regression model with the custom evaluation metric.\n",
    "\n",
    "    Parameters:\n",
    "    - X_train, Y_train: Training data and target.\n",
    "    - X_val, Y_val: Validation data and target.\n",
    "    - custom_metric: Custom evaluation metric function.\n",
    "    - model_params: Optional parameters for the LightGBM model.\n",
    "\n",
    "    Returns:\n",
    "    - Trained LightGBM model.\n",
    "    \"\"\"\n",
    "    if model_params is None:\n",
    "        model_params = {\"random_state\": 42}\n",
    "\n",
    "    # Create and train a LightGBM model\n",
    "    lgb_model = lgb.LGBMRegressor(**model_params)\n",
    "    lgb_model.fit(X_train, y_train, eval_metric=custom_metric)\n",
    "\n",
    "    # Evaluate and print SMAPE on the training set\n",
    "    train_smape = custom_metric(y_train, lgb_model.predict(X_train))\n",
    "    print(\"TRAIN SMAPE:\", train_smape)\n",
    "\n",
    "    # Evaluate and print SMAPE on the validation set\n",
    "    valid_smape = custom_metric(y_val, lgb_model.predict(X_val))\n",
    "    print(\"VALID SMAPE:\", valid_smape)\n",
    "\n",
    "    return lgb_model\n"
   ]
  },
  {
   "cell_type": "code",
   "execution_count": 12,
   "id": "bd5e0259-ca81-4378-b5c7-fc488a03888b",
   "metadata": {},
   "outputs": [
    {
     "name": "stdout",
     "output_type": "stream",
     "text": [
      "[LightGBM] [Info] Auto-choosing row-wise multi-threading, the overhead of testing was 0.004857 seconds.\n",
      "You can set `force_row_wise=true` to remove the overhead.\n",
      "And if memory is not enough, you can set `force_col_wise=true`.\n",
      "[LightGBM] [Info] Total Bins 8751\n",
      "[LightGBM] [Info] Number of data points in the train set: 319500, number of used features: 43\n",
      "[LightGBM] [Info] Start training from score 58.124626\n",
      "TRAIN SMAPE: 12.957190942092497\n",
      "VALID SMAPE: 14.1629061549606\n"
     ]
    }
   ],
   "source": [
    "# Training\n",
    "simple_model = train_and_evaluate_lgbm(\n",
    "    X_train, y_train, X_val, y_val, custom_metric=lgbm_smape_evaluation\n",
    ")"
   ]
  },
  {
   "cell_type": "markdown",
   "id": "b049c012-60d3-4e9f-9dbf-4f3f0e6fbfe9",
   "metadata": {},
   "source": [
    "### 3.3. Visualize the importances of features"
   ]
  },
  {
   "cell_type": "code",
   "execution_count": 13,
   "id": "d023cec1-cbb2-450d-bc55-615aa27c5780",
   "metadata": {},
   "outputs": [],
   "source": [
    "def get_lgb_importances(model, num=10):\n",
    "    gain = model.booster_.feature_importance(importance_type=\"gain\")\n",
    "    feat_imp = pd.DataFrame(\n",
    "        {\n",
    "            \"feature\": model.feature_name_,\n",
    "            \"split\": model.booster_.feature_importance(importance_type=\"split\"),\n",
    "            \"gain\": 100 * gain / gain.sum(),\n",
    "        }\n",
    "    ).sort_values(\"gain\", ascending=False)\n",
    "\n",
    "    return feat_imp.head(num)\n",
    "\n",
    "\n",
    "def show_importance_plot(feature_imp_df, figsize=(8, 6)):\n",
    "    sns.set(font_scale=1)\n",
    "    plt.figure(figsize=figsize)\n",
    "    sns.barplot(x=\"gain\", y=\"feature\", data=feature_imp_df, color=\"r\")\n",
    "    plt.title(\"Feature Importance\")\n",
    "    plt.tight_layout()\n",
    "    plt.show()"
   ]
  },
  {
   "cell_type": "code",
   "execution_count": 14,
   "id": "06af9812-ac8d-46c8-b3a3-b14d295471d8",
   "metadata": {},
   "outputs": [
    {
     "data": {
      "text/html": [
       "<div>\n",
       "<style scoped>\n",
       "    .dataframe tbody tr th:only-of-type {\n",
       "        vertical-align: middle;\n",
       "    }\n",
       "\n",
       "    .dataframe tbody tr th {\n",
       "        vertical-align: top;\n",
       "    }\n",
       "\n",
       "    .dataframe thead th {\n",
       "        text-align: right;\n",
       "    }\n",
       "</style>\n",
       "<table border=\"1\" class=\"dataframe\">\n",
       "  <thead>\n",
       "    <tr style=\"text-align: right;\">\n",
       "      <th></th>\n",
       "      <th>feature</th>\n",
       "      <th>split</th>\n",
       "      <th>gain</th>\n",
       "    </tr>\n",
       "  </thead>\n",
       "  <tbody>\n",
       "    <tr>\n",
       "      <th>9</th>\n",
       "      <td>recent_7_days_mean_sales</td>\n",
       "      <td>377</td>\n",
       "      <td>85.358763</td>\n",
       "    </tr>\n",
       "    <tr>\n",
       "      <th>3</th>\n",
       "      <td>last_7_days_sales</td>\n",
       "      <td>148</td>\n",
       "      <td>5.831220</td>\n",
       "    </tr>\n",
       "    <tr>\n",
       "      <th>4</th>\n",
       "      <td>last_14_days_sales</td>\n",
       "      <td>138</td>\n",
       "      <td>3.136688</td>\n",
       "    </tr>\n",
       "    <tr>\n",
       "      <th>5</th>\n",
       "      <td>last_21_days_sales</td>\n",
       "      <td>157</td>\n",
       "      <td>1.396367</td>\n",
       "    </tr>\n",
       "    <tr>\n",
       "      <th>6</th>\n",
       "      <td>last_28_days_sales</td>\n",
       "      <td>178</td>\n",
       "      <td>1.148016</td>\n",
       "    </tr>\n",
       "    <tr>\n",
       "      <th>2</th>\n",
       "      <td>last_1_days_sales</td>\n",
       "      <td>285</td>\n",
       "      <td>0.908476</td>\n",
       "    </tr>\n",
       "    <tr>\n",
       "      <th>10</th>\n",
       "      <td>recent_7_days_min_sales</td>\n",
       "      <td>146</td>\n",
       "      <td>0.384752</td>\n",
       "    </tr>\n",
       "    <tr>\n",
       "      <th>11</th>\n",
       "      <td>recent_7_day_max_sales</td>\n",
       "      <td>110</td>\n",
       "      <td>0.273957</td>\n",
       "    </tr>\n",
       "    <tr>\n",
       "      <th>42</th>\n",
       "      <td>humidity</td>\n",
       "      <td>260</td>\n",
       "      <td>0.224539</td>\n",
       "    </tr>\n",
       "    <tr>\n",
       "      <th>12</th>\n",
       "      <td>recent_7_day_std_sales</td>\n",
       "      <td>201</td>\n",
       "      <td>0.224149</td>\n",
       "    </tr>\n",
       "    <tr>\n",
       "      <th>41</th>\n",
       "      <td>temperature</td>\n",
       "      <td>192</td>\n",
       "      <td>0.169762</td>\n",
       "    </tr>\n",
       "    <tr>\n",
       "      <th>17</th>\n",
       "      <td>recent_28_days_mean_sales</td>\n",
       "      <td>141</td>\n",
       "      <td>0.159502</td>\n",
       "    </tr>\n",
       "    <tr>\n",
       "      <th>25</th>\n",
       "      <td>recent_90_days_mean_sales</td>\n",
       "      <td>81</td>\n",
       "      <td>0.153567</td>\n",
       "    </tr>\n",
       "    <tr>\n",
       "      <th>7</th>\n",
       "      <td>last_90_days_sales</td>\n",
       "      <td>90</td>\n",
       "      <td>0.143637</td>\n",
       "    </tr>\n",
       "    <tr>\n",
       "      <th>31</th>\n",
       "      <td>sum_7_days_item_sales</td>\n",
       "      <td>79</td>\n",
       "      <td>0.093320</td>\n",
       "    </tr>\n",
       "    <tr>\n",
       "      <th>21</th>\n",
       "      <td>recent_60_days_mean_sales</td>\n",
       "      <td>49</td>\n",
       "      <td>0.068499</td>\n",
       "    </tr>\n",
       "    <tr>\n",
       "      <th>8</th>\n",
       "      <td>last_180_days_sales</td>\n",
       "      <td>55</td>\n",
       "      <td>0.051202</td>\n",
       "    </tr>\n",
       "    <tr>\n",
       "      <th>35</th>\n",
       "      <td>sum_14_days_item_sales</td>\n",
       "      <td>41</td>\n",
       "      <td>0.039833</td>\n",
       "    </tr>\n",
       "    <tr>\n",
       "      <th>37</th>\n",
       "      <td>sum_30_days_store_sales</td>\n",
       "      <td>52</td>\n",
       "      <td>0.038152</td>\n",
       "    </tr>\n",
       "    <tr>\n",
       "      <th>20</th>\n",
       "      <td>recent_28_day_std_sales</td>\n",
       "      <td>24</td>\n",
       "      <td>0.030057</td>\n",
       "    </tr>\n",
       "    <tr>\n",
       "      <th>39</th>\n",
       "      <td>sum_30_days_item_sales</td>\n",
       "      <td>38</td>\n",
       "      <td>0.029771</td>\n",
       "    </tr>\n",
       "    <tr>\n",
       "      <th>26</th>\n",
       "      <td>recent_90_days_min_sales</td>\n",
       "      <td>8</td>\n",
       "      <td>0.027199</td>\n",
       "    </tr>\n",
       "    <tr>\n",
       "      <th>24</th>\n",
       "      <td>recent_60_day_std_sales</td>\n",
       "      <td>20</td>\n",
       "      <td>0.018477</td>\n",
       "    </tr>\n",
       "    <tr>\n",
       "      <th>29</th>\n",
       "      <td>sum_7_days_store_sales</td>\n",
       "      <td>20</td>\n",
       "      <td>0.016833</td>\n",
       "    </tr>\n",
       "    <tr>\n",
       "      <th>16</th>\n",
       "      <td>recent_14_day_std_sales</td>\n",
       "      <td>23</td>\n",
       "      <td>0.016027</td>\n",
       "    </tr>\n",
       "    <tr>\n",
       "      <th>33</th>\n",
       "      <td>sum_14_days_store_sales</td>\n",
       "      <td>21</td>\n",
       "      <td>0.014100</td>\n",
       "    </tr>\n",
       "    <tr>\n",
       "      <th>13</th>\n",
       "      <td>recent_14_days_mean_sales</td>\n",
       "      <td>18</td>\n",
       "      <td>0.014001</td>\n",
       "    </tr>\n",
       "    <tr>\n",
       "      <th>1</th>\n",
       "      <td>item</td>\n",
       "      <td>11</td>\n",
       "      <td>0.007157</td>\n",
       "    </tr>\n",
       "    <tr>\n",
       "      <th>28</th>\n",
       "      <td>recent_90_day_std_sales</td>\n",
       "      <td>12</td>\n",
       "      <td>0.005517</td>\n",
       "    </tr>\n",
       "    <tr>\n",
       "      <th>14</th>\n",
       "      <td>recent_14_days_min_sales</td>\n",
       "      <td>4</td>\n",
       "      <td>0.003944</td>\n",
       "    </tr>\n",
       "  </tbody>\n",
       "</table>\n",
       "</div>"
      ],
      "text/plain": [
       "                      feature  split       gain\n",
       "9    recent_7_days_mean_sales    377  85.358763\n",
       "3           last_7_days_sales    148   5.831220\n",
       "4          last_14_days_sales    138   3.136688\n",
       "5          last_21_days_sales    157   1.396367\n",
       "6          last_28_days_sales    178   1.148016\n",
       "2           last_1_days_sales    285   0.908476\n",
       "10    recent_7_days_min_sales    146   0.384752\n",
       "11     recent_7_day_max_sales    110   0.273957\n",
       "42                   humidity    260   0.224539\n",
       "12     recent_7_day_std_sales    201   0.224149\n",
       "41                temperature    192   0.169762\n",
       "17  recent_28_days_mean_sales    141   0.159502\n",
       "25  recent_90_days_mean_sales     81   0.153567\n",
       "7          last_90_days_sales     90   0.143637\n",
       "31      sum_7_days_item_sales     79   0.093320\n",
       "21  recent_60_days_mean_sales     49   0.068499\n",
       "8         last_180_days_sales     55   0.051202\n",
       "35     sum_14_days_item_sales     41   0.039833\n",
       "37    sum_30_days_store_sales     52   0.038152\n",
       "20    recent_28_day_std_sales     24   0.030057\n",
       "39     sum_30_days_item_sales     38   0.029771\n",
       "26   recent_90_days_min_sales      8   0.027199\n",
       "24    recent_60_day_std_sales     20   0.018477\n",
       "29     sum_7_days_store_sales     20   0.016833\n",
       "16    recent_14_day_std_sales     23   0.016027\n",
       "33    sum_14_days_store_sales     21   0.014100\n",
       "13  recent_14_days_mean_sales     18   0.014001\n",
       "1                        item     11   0.007157\n",
       "28    recent_90_day_std_sales     12   0.005517\n",
       "14   recent_14_days_min_sales      4   0.003944"
      ]
     },
     "execution_count": 14,
     "metadata": {},
     "output_type": "execute_result"
    }
   ],
   "source": [
    "get_lgb_importances(simple_model, num=30)"
   ]
  },
  {
   "cell_type": "code",
   "execution_count": 15,
   "id": "8a7afaa9-5233-4595-8fb1-8def9ffb65b5",
   "metadata": {},
   "outputs": [
    {
     "data": {
      "image/png": "[encoded data removed]",
      "text/plain": [
       "<Figure size 800x600 with 1 Axes>"
      ]
     },
     "metadata": {},
     "output_type": "display_data"
    }
   ],
   "source": [
    "show_importance_plot(get_lgb_importances(simple_model, num=20))"
   ]
  },
  {
   "cell_type": "markdown",
   "id": "d062333b-5ea4-4bca-8c9c-23401a0dfbdb",
   "metadata": {},
   "source": [
    "## 4. Features selection"
   ]
  },
  {
   "cell_type": "code",
   "execution_count": 16,
   "id": "9809c167-b083-4ade-84f7-f26a7d626784",
   "metadata": {},
   "outputs": [],
   "source": [
    "# pass"
   ]
  },
  {
   "cell_type": "markdown",
   "id": "a0652bac-3b85-4750-b4c9-b6d1b8b7c855",
   "metadata": {},
   "source": [
    "## 5. Parameter tuning"
   ]
  },
  {
   "cell_type": "code",
   "execution_count": 17,
   "id": "680d018c-b5a9-47f4-9fd3-aca8d96b463e",
   "metadata": {},
   "outputs": [],
   "source": [
    "# !pip install optuna --quiet"
   ]
  },
  {
   "cell_type": "code",
   "execution_count": 18,
   "id": "d5453172-4c39-463f-a14e-1a21ec3ed0c9",
   "metadata": {},
   "outputs": [],
   "source": [
    "import optuna\n",
    "\n",
    "\n",
    "def objective(trial, df, custom_metric):\n",
    "    \"\"\"\n",
    "    Objective function for Optuna optimization.\n",
    "\n",
    "    Parameters:\n",
    "    - trial: Optuna Trial object.\n",
    "    - X: Training data.\n",
    "    - y: Target variable.\n",
    "    - custom_metric: Custom evaluation metric function.\n",
    "\n",
    "    Returns:\n",
    "    - SMAPE value to minimize.\n",
    "    \"\"\"\n",
    "    # Split the data for training and validation\n",
    "    X_train, X_val, y_train, y_val = split_time_series_data(df, split_date=\"2017-10-01\")\n",
    "\n",
    "    # Define hyperparameters to optimize\n",
    "    params = {\n",
    "        \"objective\": \"regression\",\n",
    "        \"metric\": \"custom\",\n",
    "        \"boosting_type\": trial.suggest_categorical(\n",
    "            \"boosting_type\", [\"gbdt\", \"dart\", \"goss\"]\n",
    "        ),\n",
    "        \"num_leaves\": trial.suggest_int(\"num_leaves\", 10, 100),\n",
    "        \"learning_rate\": trial.suggest_float(\"learning_rate\", 0.01, 0.1),\n",
    "        \"feature_fraction\": trial.suggest_float(\"feature_fraction\", 0.1, 1),\n",
    "    }\n",
    "\n",
    "    # Exclude bagging parameters when boosting_type is 'goss'\n",
    "    if params[\"boosting_type\"] != \"goss\":\n",
    "        params[\"bagging_fraction\"] = trial.suggest_float(\"bagging_fraction\", 0.1, 1)\n",
    "        params[\"bagging_freq\"] = trial.suggest_int(\"bagging_freq\", 1, 10)\n",
    "\n",
    "    # Create and train LightGBM model\n",
    "    lgb_model = lgb.LGBMRegressor(**params)\n",
    "    lgb_model.fit(X_train, y_train, eval_metric=custom_metric)\n",
    "\n",
    "    # Evaluate using the validation set and return the SMAPE\n",
    "    val_smape = custom_metric(y_val, lgb_model.predict(X_val))\n",
    "    return val_smape"
   ]
  },
  {
   "cell_type": "code",
   "execution_count": 19,
   "id": "10100ad7-fe29-406b-8391-6a0e3d046777",
   "metadata": {},
   "outputs": [],
   "source": [
    "def optimize_lightgbm(X, y, custom_metric, n_trials=50):\n",
    "    study = optuna.create_study(direction=\"minimize\")\n",
    "    objective_fn = lambda trial: objective(trial, df_features, custom_metric)\n",
    "\n",
    "    # Optimize the objective function\n",
    "    study.optimize(objective_fn, n_trials=n_trials)\n",
    "\n",
    "    # Print study trials and statuses\n",
    "    for trial in study.trials:\n",
    "        print(f\"Trial #{trial.number}, Status: {trial.state}, Value: {trial.value}\")\n",
    "\n",
    "    if len(study.trials) == 0 or all(\n",
    "        trial.state == optuna.trial.TrialState.FAIL for trial in study.trials\n",
    "    ):\n",
    "        raise ValueError(\"No successful trials have been completed.\")\n",
    "\n",
    "    # Get the best hyperparameters\n",
    "    best_params = study.best_params\n",
    "\n",
    "    return best_params"
   ]
  },
  {
   "cell_type": "code",
   "execution_count": 20,
   "id": "1d91db26-813d-499d-9b1c-64bb5c18342a",
   "metadata": {
    "scrolled": true
   },
   "outputs": [
    {
     "name": "stderr",
     "output_type": "stream",
     "text": [
      "[I 2024-01-13 06:59:39,130] A new study created in memory with name: no-name-64129f52-792a-4c1c-81b3-8efdb76da6fb\n"
     ]
    },
    {
     "name": "stdout",
     "output_type": "stream",
     "text": [
      "[LightGBM] [Warning] bagging_freq is set=2, subsample_freq=0 will be ignored. Current value: bagging_freq=2\n",
      "[LightGBM] [Warning] feature_fraction is set=0.24169617936342563, colsample_bytree=1.0 will be ignored. Current value: feature_fraction=0.24169617936342563\n",
      "[LightGBM] [Warning] bagging_fraction is set=0.7563534729980501, subsample=1.0 will be ignored. Current value: bagging_fraction=0.7563534729980501\n",
      "[LightGBM] [Warning] bagging_freq is set=2, subsample_freq=0 will be ignored. Current value: bagging_freq=2\n",
      "[LightGBM] [Warning] feature_fraction is set=0.24169617936342563, colsample_bytree=1.0 will be ignored. Current value: feature_fraction=0.24169617936342563\n",
      "[LightGBM] [Warning] bagging_fraction is set=0.7563534729980501, subsample=1.0 will be ignored. Current value: bagging_fraction=0.7563534729980501\n",
      "[LightGBM] [Info] Auto-choosing row-wise multi-threading, the overhead of testing was 0.002125 seconds.\n",
      "You can set `force_row_wise=true` to remove the overhead.\n",
      "And if memory is not enough, you can set `force_col_wise=true`.\n",
      "[LightGBM] [Info] Total Bins 8749\n",
      "[LightGBM] [Info] Number of data points in the train set: 319500, number of used features: 43\n",
      "[LightGBM] [Info] Start training from score 58.124626\n"
     ]
    },
    {
     "name": "stderr",
     "output_type": "stream",
     "text": [
      "[I 2024-01-13 06:59:44,523] Trial 0 finished with value: 21.850527845514513 and parameters: {'boosting_type': 'dart', 'num_leaves': 86, 'learning_rate': 0.04974326917545018, 'feature_fraction': 0.24169617936342563, 'bagging_fraction': 0.7563534729980501, 'bagging_freq': 2}. Best is trial 0 with value: 21.850527845514513.\n"
     ]
    },
    {
     "name": "stdout",
     "output_type": "stream",
     "text": [
      "[LightGBM] [Warning] bagging_freq is set=2, subsample_freq=0 will be ignored. Current value: bagging_freq=2\n",
      "[LightGBM] [Warning] feature_fraction is set=0.24169617936342563, colsample_bytree=1.0 will be ignored. Current value: feature_fraction=0.24169617936342563\n",
      "[LightGBM] [Warning] bagging_fraction is set=0.7563534729980501, subsample=1.0 will be ignored. Current value: bagging_fraction=0.7563534729980501\n",
      "[LightGBM] [Warning] feature_fraction is set=0.5497472637080396, colsample_bytree=1.0 will be ignored. Current value: feature_fraction=0.5497472637080396\n",
      "[LightGBM] [Warning] Found boosting=goss. For backwards compatibility reasons, LightGBM interprets this as boosting=gbdt, data_sample_strategy=goss.To suppress this warning, set data_sample_strategy=goss instead.\n",
      "[LightGBM] [Warning] feature_fraction is set=0.5497472637080396, colsample_bytree=1.0 will be ignored. Current value: feature_fraction=0.5497472637080396\n",
      "[LightGBM] [Warning] Found boosting=goss. For backwards compatibility reasons, LightGBM interprets this as boosting=gbdt, data_sample_strategy=goss.To suppress this warning, set data_sample_strategy=goss instead.\n",
      "[LightGBM] [Info] Auto-choosing row-wise multi-threading, the overhead of testing was 0.003104 seconds.\n",
      "You can set `force_row_wise=true` to remove the overhead.\n",
      "And if memory is not enough, you can set `force_col_wise=true`.\n",
      "[LightGBM] [Info] Total Bins 8749\n",
      "[LightGBM] [Info] Number of data points in the train set: 319500, number of used features: 43\n",
      "[LightGBM] [Info] Using GOSS\n",
      "[LightGBM] [Info] Start training from score 58.124626\n"
     ]
    },
    {
     "name": "stderr",
     "output_type": "stream",
     "text": [
      "[I 2024-01-13 06:59:48,388] Trial 1 finished with value: 14.085554621221782 and parameters: {'boosting_type': 'goss', 'num_leaves': 85, 'learning_rate': 0.05437584082273989, 'feature_fraction': 0.5497472637080396}. Best is trial 1 with value: 14.085554621221782.\n"
     ]
    },
    {
     "name": "stdout",
     "output_type": "stream",
     "text": [
      "[LightGBM] [Warning] feature_fraction is set=0.5497472637080396, colsample_bytree=1.0 will be ignored. Current value: feature_fraction=0.5497472637080396\n",
      "[LightGBM] [Warning] Found boosting=goss. For backwards compatibility reasons, LightGBM interprets this as boosting=gbdt, data_sample_strategy=goss.To suppress this warning, set data_sample_strategy=goss instead.\n",
      "[LightGBM] [Warning] feature_fraction is set=0.44817980456564865, colsample_bytree=1.0 will be ignored. Current value: feature_fraction=0.44817980456564865\n",
      "[LightGBM] [Warning] Found boosting=goss. For backwards compatibility reasons, LightGBM interprets this as boosting=gbdt, data_sample_strategy=goss.To suppress this warning, set data_sample_strategy=goss instead.\n",
      "[LightGBM] [Warning] feature_fraction is set=0.44817980456564865, colsample_bytree=1.0 will be ignored. Current value: feature_fraction=0.44817980456564865\n",
      "[LightGBM] [Warning] Found boosting=goss. For backwards compatibility reasons, LightGBM interprets this as boosting=gbdt, data_sample_strategy=goss.To suppress this warning, set data_sample_strategy=goss instead.\n",
      "[LightGBM] [Info] Auto-choosing row-wise multi-threading, the overhead of testing was 0.002815 seconds.\n",
      "You can set `force_row_wise=true` to remove the overhead.\n",
      "And if memory is not enough, you can set `force_col_wise=true`.\n",
      "[LightGBM] [Info] Total Bins 8749\n",
      "[LightGBM] [Info] Number of data points in the train set: 319500, number of used features: 43\n",
      "[LightGBM] [Info] Using GOSS\n",
      "[LightGBM] [Info] Start training from score 58.124626\n"
     ]
    },
    {
     "name": "stderr",
     "output_type": "stream",
     "text": [
      "[I 2024-01-13 06:59:51,635] Trial 2 finished with value: 15.010899378811985 and parameters: {'boosting_type': 'goss', 'num_leaves': 67, 'learning_rate': 0.03284599340379387, 'feature_fraction': 0.44817980456564865}. Best is trial 1 with value: 14.085554621221782.\n"
     ]
    },
    {
     "name": "stdout",
     "output_type": "stream",
     "text": [
      "[LightGBM] [Warning] feature_fraction is set=0.44817980456564865, colsample_bytree=1.0 will be ignored. Current value: feature_fraction=0.44817980456564865\n",
      "[LightGBM] [Warning] Found boosting=goss. For backwards compatibility reasons, LightGBM interprets this as boosting=gbdt, data_sample_strategy=goss.To suppress this warning, set data_sample_strategy=goss instead.\n",
      "[LightGBM] [Warning] bagging_freq is set=6, subsample_freq=0 will be ignored. Current value: bagging_freq=6\n",
      "[LightGBM] [Warning] feature_fraction is set=0.34945402300835965, colsample_bytree=1.0 will be ignored. Current value: feature_fraction=0.34945402300835965\n",
      "[LightGBM] [Warning] bagging_fraction is set=0.22105056134924325, subsample=1.0 will be ignored. Current value: bagging_fraction=0.22105056134924325\n",
      "[LightGBM] [Warning] bagging_freq is set=6, subsample_freq=0 will be ignored. Current value: bagging_freq=6\n",
      "[LightGBM] [Warning] feature_fraction is set=0.34945402300835965, colsample_bytree=1.0 will be ignored. Current value: feature_fraction=0.34945402300835965\n",
      "[LightGBM] [Warning] bagging_fraction is set=0.22105056134924325, subsample=1.0 will be ignored. Current value: bagging_fraction=0.22105056134924325\n",
      "[LightGBM] [Info] Auto-choosing row-wise multi-threading, the overhead of testing was 0.002567 seconds.\n",
      "You can set `force_row_wise=true` to remove the overhead.\n",
      "And if memory is not enough, you can set `force_col_wise=true`.\n",
      "[LightGBM] [Info] Total Bins 8749\n",
      "[LightGBM] [Info] Number of data points in the train set: 319500, number of used features: 43\n",
      "[LightGBM] [Info] Start training from score 58.124626\n"
     ]
    },
    {
     "name": "stderr",
     "output_type": "stream",
     "text": [
      "[I 2024-01-13 06:59:55,928] Trial 3 finished with value: 37.74718362990364 and parameters: {'boosting_type': 'dart', 'num_leaves': 64, 'learning_rate': 0.011872880398029174, 'feature_fraction': 0.34945402300835965, 'bagging_fraction': 0.22105056134924325, 'bagging_freq': 6}. Best is trial 1 with value: 14.085554621221782.\n"
     ]
    },
    {
     "name": "stdout",
     "output_type": "stream",
     "text": [
      "[LightGBM] [Warning] bagging_freq is set=6, subsample_freq=0 will be ignored. Current value: bagging_freq=6\n",
      "[LightGBM] [Warning] feature_fraction is set=0.34945402300835965, colsample_bytree=1.0 will be ignored. Current value: feature_fraction=0.34945402300835965\n",
      "[LightGBM] [Warning] bagging_fraction is set=0.22105056134924325, subsample=1.0 will be ignored. Current value: bagging_fraction=0.22105056134924325\n",
      "[LightGBM] [Warning] feature_fraction is set=0.19891332884777774, colsample_bytree=1.0 will be ignored. Current value: feature_fraction=0.19891332884777774\n",
      "[LightGBM] [Warning] Found boosting=goss. For backwards compatibility reasons, LightGBM interprets this as boosting=gbdt, data_sample_strategy=goss.To suppress this warning, set data_sample_strategy=goss instead.\n",
      "[LightGBM] [Warning] feature_fraction is set=0.19891332884777774, colsample_bytree=1.0 will be ignored. Current value: feature_fraction=0.19891332884777774\n",
      "[LightGBM] [Warning] Found boosting=goss. For backwards compatibility reasons, LightGBM interprets this as boosting=gbdt, data_sample_strategy=goss.To suppress this warning, set data_sample_strategy=goss instead.\n",
      "[LightGBM] [Info] Auto-choosing row-wise multi-threading, the overhead of testing was 0.001215 seconds.\n",
      "You can set `force_row_wise=true` to remove the overhead.\n",
      "And if memory is not enough, you can set `force_col_wise=true`.\n",
      "[LightGBM] [Info] Total Bins 8749\n",
      "[LightGBM] [Info] Number of data points in the train set: 319500, number of used features: 43\n",
      "[LightGBM] [Info] Using GOSS\n",
      "[LightGBM] [Info] Start training from score 58.124626\n"
     ]
    },
    {
     "name": "stderr",
     "output_type": "stream",
     "text": [
      "[I 2024-01-13 06:59:59,324] Trial 4 finished with value: 14.405464364714199 and parameters: {'boosting_type': 'goss', 'num_leaves': 78, 'learning_rate': 0.08010641613862744, 'feature_fraction': 0.19891332884777774}. Best is trial 1 with value: 14.085554621221782.\n"
     ]
    },
    {
     "name": "stdout",
     "output_type": "stream",
     "text": [
      "[LightGBM] [Warning] feature_fraction is set=0.19891332884777774, colsample_bytree=1.0 will be ignored. Current value: feature_fraction=0.19891332884777774\n",
      "[LightGBM] [Warning] Found boosting=goss. For backwards compatibility reasons, LightGBM interprets this as boosting=gbdt, data_sample_strategy=goss.To suppress this warning, set data_sample_strategy=goss instead.\n",
      "[LightGBM] [Warning] bagging_freq is set=2, subsample_freq=0 will be ignored. Current value: bagging_freq=2\n",
      "[LightGBM] [Warning] feature_fraction is set=0.8237690961488254, colsample_bytree=1.0 will be ignored. Current value: feature_fraction=0.8237690961488254\n",
      "[LightGBM] [Warning] bagging_fraction is set=0.31143919438615, subsample=1.0 will be ignored. Current value: bagging_fraction=0.31143919438615\n",
      "[LightGBM] [Warning] bagging_freq is set=2, subsample_freq=0 will be ignored. Current value: bagging_freq=2\n",
      "[LightGBM] [Warning] feature_fraction is set=0.8237690961488254, colsample_bytree=1.0 will be ignored. Current value: feature_fraction=0.8237690961488254\n",
      "[LightGBM] [Warning] bagging_fraction is set=0.31143919438615, subsample=1.0 will be ignored. Current value: bagging_fraction=0.31143919438615\n",
      "[LightGBM] [Info] Auto-choosing row-wise multi-threading, the overhead of testing was 0.004157 seconds.\n",
      "You can set `force_row_wise=true` to remove the overhead.\n",
      "And if memory is not enough, you can set `force_col_wise=true`.\n",
      "[LightGBM] [Info] Total Bins 8749\n",
      "[LightGBM] [Info] Number of data points in the train set: 319500, number of used features: 43\n",
      "[LightGBM] [Info] Start training from score 58.124626\n"
     ]
    },
    {
     "name": "stderr",
     "output_type": "stream",
     "text": [
      "[I 2024-01-13 07:00:04,837] Trial 5 finished with value: 31.03046672797019 and parameters: {'boosting_type': 'dart', 'num_leaves': 96, 'learning_rate': 0.02216333308549838, 'feature_fraction': 0.8237690961488254, 'bagging_fraction': 0.31143919438615, 'bagging_freq': 2}. Best is trial 1 with value: 14.085554621221782.\n"
     ]
    },
    {
     "name": "stdout",
     "output_type": "stream",
     "text": [
      "[LightGBM] [Warning] bagging_freq is set=2, subsample_freq=0 will be ignored. Current value: bagging_freq=2\n",
      "[LightGBM] [Warning] feature_fraction is set=0.8237690961488254, colsample_bytree=1.0 will be ignored. Current value: feature_fraction=0.8237690961488254\n",
      "[LightGBM] [Warning] bagging_fraction is set=0.31143919438615, subsample=1.0 will be ignored. Current value: bagging_fraction=0.31143919438615\n",
      "[LightGBM] [Warning] feature_fraction is set=0.20181259280023062, colsample_bytree=1.0 will be ignored. Current value: feature_fraction=0.20181259280023062\n",
      "[LightGBM] [Warning] Found boosting=goss. For backwards compatibility reasons, LightGBM interprets this as boosting=gbdt, data_sample_strategy=goss.To suppress this warning, set data_sample_strategy=goss instead.\n",
      "[LightGBM] [Warning] feature_fraction is set=0.20181259280023062, colsample_bytree=1.0 will be ignored. Current value: feature_fraction=0.20181259280023062\n",
      "[LightGBM] [Warning] Found boosting=goss. For backwards compatibility reasons, LightGBM interprets this as boosting=gbdt, data_sample_strategy=goss.To suppress this warning, set data_sample_strategy=goss instead.\n",
      "[LightGBM] [Info] Auto-choosing row-wise multi-threading, the overhead of testing was 0.001230 seconds.\n",
      "You can set `force_row_wise=true` to remove the overhead.\n",
      "And if memory is not enough, you can set `force_col_wise=true`.\n",
      "[LightGBM] [Info] Total Bins 8749\n",
      "[LightGBM] [Info] Number of data points in the train set: 319500, number of used features: 43\n",
      "[LightGBM] [Info] Using GOSS\n",
      "[LightGBM] [Info] Start training from score 58.124626\n"
     ]
    },
    {
     "name": "stderr",
     "output_type": "stream",
     "text": [
      "[I 2024-01-13 07:00:07,768] Trial 6 finished with value: 14.43198495745078 and parameters: {'boosting_type': 'goss', 'num_leaves': 63, 'learning_rate': 0.08302096018841931, 'feature_fraction': 0.20181259280023062}. Best is trial 1 with value: 14.085554621221782.\n"
     ]
    },
    {
     "name": "stdout",
     "output_type": "stream",
     "text": [
      "[LightGBM] [Warning] feature_fraction is set=0.20181259280023062, colsample_bytree=1.0 will be ignored. Current value: feature_fraction=0.20181259280023062\n",
      "[LightGBM] [Warning] Found boosting=goss. For backwards compatibility reasons, LightGBM interprets this as boosting=gbdt, data_sample_strategy=goss.To suppress this warning, set data_sample_strategy=goss instead.\n",
      "[LightGBM] [Warning] bagging_freq is set=8, subsample_freq=0 will be ignored. Current value: bagging_freq=8\n",
      "[LightGBM] [Warning] feature_fraction is set=0.8671873950752995, colsample_bytree=1.0 will be ignored. Current value: feature_fraction=0.8671873950752995\n",
      "[LightGBM] [Warning] bagging_fraction is set=0.9381216331271574, subsample=1.0 will be ignored. Current value: bagging_fraction=0.9381216331271574\n",
      "[LightGBM] [Warning] bagging_freq is set=8, subsample_freq=0 will be ignored. Current value: bagging_freq=8\n",
      "[LightGBM] [Warning] feature_fraction is set=0.8671873950752995, colsample_bytree=1.0 will be ignored. Current value: feature_fraction=0.8671873950752995\n",
      "[LightGBM] [Warning] bagging_fraction is set=0.9381216331271574, subsample=1.0 will be ignored. Current value: bagging_fraction=0.9381216331271574\n",
      "[LightGBM] [Info] Auto-choosing row-wise multi-threading, the overhead of testing was 0.004531 seconds.\n",
      "You can set `force_row_wise=true` to remove the overhead.\n",
      "And if memory is not enough, you can set `force_col_wise=true`.\n",
      "[LightGBM] [Info] Total Bins 8749\n",
      "[LightGBM] [Info] Number of data points in the train set: 319500, number of used features: 43\n",
      "[LightGBM] [Info] Start training from score 58.124626\n"
     ]
    },
    {
     "name": "stderr",
     "output_type": "stream",
     "text": [
      "[I 2024-01-13 07:00:12,388] Trial 7 finished with value: 19.607092152811468 and parameters: {'boosting_type': 'dart', 'num_leaves': 58, 'learning_rate': 0.0618529514067592, 'feature_fraction': 0.8671873950752995, 'bagging_fraction': 0.9381216331271574, 'bagging_freq': 8}. Best is trial 1 with value: 14.085554621221782.\n"
     ]
    },
    {
     "name": "stdout",
     "output_type": "stream",
     "text": [
      "[LightGBM] [Warning] bagging_freq is set=8, subsample_freq=0 will be ignored. Current value: bagging_freq=8\n",
      "[LightGBM] [Warning] feature_fraction is set=0.8671873950752995, colsample_bytree=1.0 will be ignored. Current value: feature_fraction=0.8671873950752995\n",
      "[LightGBM] [Warning] bagging_fraction is set=0.9381216331271574, subsample=1.0 will be ignored. Current value: bagging_fraction=0.9381216331271574\n",
      "[LightGBM] [Warning] bagging_freq is set=7, subsample_freq=0 will be ignored. Current value: bagging_freq=7\n",
      "[LightGBM] [Warning] feature_fraction is set=0.680552998443235, colsample_bytree=1.0 will be ignored. Current value: feature_fraction=0.680552998443235\n",
      "[LightGBM] [Warning] bagging_fraction is set=0.4927513624494363, subsample=1.0 will be ignored. Current value: bagging_fraction=0.4927513624494363\n",
      "[LightGBM] [Warning] bagging_freq is set=7, subsample_freq=0 will be ignored. Current value: bagging_freq=7\n",
      "[LightGBM] [Warning] feature_fraction is set=0.680552998443235, colsample_bytree=1.0 will be ignored. Current value: feature_fraction=0.680552998443235\n",
      "[LightGBM] [Warning] bagging_fraction is set=0.4927513624494363, subsample=1.0 will be ignored. Current value: bagging_fraction=0.4927513624494363\n",
      "[LightGBM] [Info] Auto-choosing row-wise multi-threading, the overhead of testing was 0.004409 seconds.\n",
      "You can set `force_row_wise=true` to remove the overhead.\n",
      "And if memory is not enough, you can set `force_col_wise=true`.\n",
      "[LightGBM] [Info] Total Bins 8749\n",
      "[LightGBM] [Info] Number of data points in the train set: 319500, number of used features: 43\n",
      "[LightGBM] [Info] Start training from score 58.124626\n"
     ]
    },
    {
     "name": "stderr",
     "output_type": "stream",
     "text": [
      "[I 2024-01-13 07:00:14,969] Trial 8 finished with value: 16.21647530528232 and parameters: {'boosting_type': 'dart', 'num_leaves': 24, 'learning_rate': 0.09923616031734485, 'feature_fraction': 0.680552998443235, 'bagging_fraction': 0.4927513624494363, 'bagging_freq': 7}. Best is trial 1 with value: 14.085554621221782.\n"
     ]
    },
    {
     "name": "stdout",
     "output_type": "stream",
     "text": [
      "[LightGBM] [Warning] bagging_freq is set=7, subsample_freq=0 will be ignored. Current value: bagging_freq=7\n",
      "[LightGBM] [Warning] feature_fraction is set=0.680552998443235, colsample_bytree=1.0 will be ignored. Current value: feature_fraction=0.680552998443235\n",
      "[LightGBM] [Warning] bagging_fraction is set=0.4927513624494363, subsample=1.0 will be ignored. Current value: bagging_fraction=0.4927513624494363\n",
      "[LightGBM] [Warning] feature_fraction is set=0.44644226118048924, colsample_bytree=1.0 will be ignored. Current value: feature_fraction=0.44644226118048924\n",
      "[LightGBM] [Warning] Found boosting=goss. For backwards compatibility reasons, LightGBM interprets this as boosting=gbdt, data_sample_strategy=goss.To suppress this warning, set data_sample_strategy=goss instead.\n",
      "[LightGBM] [Warning] feature_fraction is set=0.44644226118048924, colsample_bytree=1.0 will be ignored. Current value: feature_fraction=0.44644226118048924\n",
      "[LightGBM] [Warning] Found boosting=goss. For backwards compatibility reasons, LightGBM interprets this as boosting=gbdt, data_sample_strategy=goss.To suppress this warning, set data_sample_strategy=goss instead.\n",
      "[LightGBM] [Info] Auto-choosing row-wise multi-threading, the overhead of testing was 0.002693 seconds.\n",
      "You can set `force_row_wise=true` to remove the overhead.\n",
      "And if memory is not enough, you can set `force_col_wise=true`.\n",
      "[LightGBM] [Info] Total Bins 8749\n",
      "[LightGBM] [Info] Number of data points in the train set: 319500, number of used features: 43\n",
      "[LightGBM] [Info] Using GOSS\n",
      "[LightGBM] [Info] Start training from score 58.124626\n"
     ]
    },
    {
     "name": "stderr",
     "output_type": "stream",
     "text": [
      "[I 2024-01-13 07:00:17,681] Trial 9 finished with value: 14.545694982087982 and parameters: {'boosting_type': 'goss', 'num_leaves': 52, 'learning_rate': 0.04579412901395375, 'feature_fraction': 0.44644226118048924}. Best is trial 1 with value: 14.085554621221782.\n"
     ]
    },
    {
     "name": "stdout",
     "output_type": "stream",
     "text": [
      "[LightGBM] [Warning] feature_fraction is set=0.44644226118048924, colsample_bytree=1.0 will be ignored. Current value: feature_fraction=0.44644226118048924\n",
      "[LightGBM] [Warning] Found boosting=goss. For backwards compatibility reasons, LightGBM interprets this as boosting=gbdt, data_sample_strategy=goss.To suppress this warning, set data_sample_strategy=goss instead.\n",
      "[LightGBM] [Warning] bagging_freq is set=10, subsample_freq=0 will be ignored. Current value: bagging_freq=10\n",
      "[LightGBM] [Warning] feature_fraction is set=0.653847799324982, colsample_bytree=1.0 will be ignored. Current value: feature_fraction=0.653847799324982\n",
      "[LightGBM] [Warning] bagging_fraction is set=0.6467288436756045, subsample=1.0 will be ignored. Current value: bagging_fraction=0.6467288436756045\n",
      "[LightGBM] [Warning] bagging_freq is set=10, subsample_freq=0 will be ignored. Current value: bagging_freq=10\n",
      "[LightGBM] [Warning] feature_fraction is set=0.653847799324982, colsample_bytree=1.0 will be ignored. Current value: feature_fraction=0.653847799324982\n",
      "[LightGBM] [Warning] bagging_fraction is set=0.6467288436756045, subsample=1.0 will be ignored. Current value: bagging_fraction=0.6467288436756045\n",
      "[LightGBM] [Info] Auto-choosing row-wise multi-threading, the overhead of testing was 0.003858 seconds.\n",
      "You can set `force_row_wise=true` to remove the overhead.\n",
      "And if memory is not enough, you can set `force_col_wise=true`.\n",
      "[LightGBM] [Info] Total Bins 8749\n",
      "[LightGBM] [Info] Number of data points in the train set: 319500, number of used features: 43\n",
      "[LightGBM] [Info] Start training from score 58.124626\n"
     ]
    },
    {
     "name": "stderr",
     "output_type": "stream",
     "text": [
      "[I 2024-01-13 07:00:19,800] Trial 10 finished with value: 14.348569134436664 and parameters: {'boosting_type': 'gbdt', 'num_leaves': 37, 'learning_rate': 0.06660698776152317, 'feature_fraction': 0.653847799324982, 'bagging_fraction': 0.6467288436756045, 'bagging_freq': 10}. Best is trial 1 with value: 14.085554621221782.\n"
     ]
    },
    {
     "name": "stdout",
     "output_type": "stream",
     "text": [
      "[LightGBM] [Warning] bagging_freq is set=10, subsample_freq=0 will be ignored. Current value: bagging_freq=10\n",
      "[LightGBM] [Warning] feature_fraction is set=0.653847799324982, colsample_bytree=1.0 will be ignored. Current value: feature_fraction=0.653847799324982\n",
      "[LightGBM] [Warning] bagging_fraction is set=0.6467288436756045, subsample=1.0 will be ignored. Current value: bagging_fraction=0.6467288436756045\n",
      "[LightGBM] [Warning] bagging_freq is set=10, subsample_freq=0 will be ignored. Current value: bagging_freq=10\n",
      "[LightGBM] [Warning] feature_fraction is set=0.6226079764898113, colsample_bytree=1.0 will be ignored. Current value: feature_fraction=0.6226079764898113\n",
      "[LightGBM] [Warning] bagging_fraction is set=0.6014470737536368, subsample=1.0 will be ignored. Current value: bagging_fraction=0.6014470737536368\n",
      "[LightGBM] [Warning] bagging_freq is set=10, subsample_freq=0 will be ignored. Current value: bagging_freq=10\n",
      "[LightGBM] [Warning] feature_fraction is set=0.6226079764898113, colsample_bytree=1.0 will be ignored. Current value: feature_fraction=0.6226079764898113\n",
      "[LightGBM] [Warning] bagging_fraction is set=0.6014470737536368, subsample=1.0 will be ignored. Current value: bagging_fraction=0.6014470737536368\n",
      "[LightGBM] [Info] Auto-choosing row-wise multi-threading, the overhead of testing was 0.003825 seconds.\n",
      "You can set `force_row_wise=true` to remove the overhead.\n",
      "And if memory is not enough, you can set `force_col_wise=true`.\n",
      "[LightGBM] [Info] Total Bins 8749\n",
      "[LightGBM] [Info] Number of data points in the train set: 319500, number of used features: 43\n",
      "[LightGBM] [Info] Start training from score 58.124626\n"
     ]
    },
    {
     "name": "stderr",
     "output_type": "stream",
     "text": [
      "[I 2024-01-13 07:00:21,824] Trial 11 finished with value: 14.453514654783431 and parameters: {'boosting_type': 'gbdt', 'num_leaves': 34, 'learning_rate': 0.06593203544613727, 'feature_fraction': 0.6226079764898113, 'bagging_fraction': 0.6014470737536368, 'bagging_freq': 10}. Best is trial 1 with value: 14.085554621221782.\n"
     ]
    },
    {
     "name": "stdout",
     "output_type": "stream",
     "text": [
      "[LightGBM] [Warning] bagging_freq is set=10, subsample_freq=0 will be ignored. Current value: bagging_freq=10\n",
      "[LightGBM] [Warning] feature_fraction is set=0.6226079764898113, colsample_bytree=1.0 will be ignored. Current value: feature_fraction=0.6226079764898113\n",
      "[LightGBM] [Warning] bagging_fraction is set=0.6014470737536368, subsample=1.0 will be ignored. Current value: bagging_fraction=0.6014470737536368\n",
      "[LightGBM] [Warning] bagging_freq is set=10, subsample_freq=0 will be ignored. Current value: bagging_freq=10\n",
      "[LightGBM] [Warning] feature_fraction is set=0.6980621535125956, colsample_bytree=1.0 will be ignored. Current value: feature_fraction=0.6980621535125956\n",
      "[LightGBM] [Warning] bagging_fraction is set=0.9993507096974406, subsample=1.0 will be ignored. Current value: bagging_fraction=0.9993507096974406\n",
      "[LightGBM] [Warning] bagging_freq is set=10, subsample_freq=0 will be ignored. Current value: bagging_freq=10\n",
      "[LightGBM] [Warning] feature_fraction is set=0.6980621535125956, colsample_bytree=1.0 will be ignored. Current value: feature_fraction=0.6980621535125956\n",
      "[LightGBM] [Warning] bagging_fraction is set=0.9993507096974406, subsample=1.0 will be ignored. Current value: bagging_fraction=0.9993507096974406\n",
      "[LightGBM] [Info] Auto-choosing row-wise multi-threading, the overhead of testing was 0.004051 seconds.\n",
      "You can set `force_row_wise=true` to remove the overhead.\n",
      "And if memory is not enough, you can set `force_col_wise=true`.\n",
      "[LightGBM] [Info] Total Bins 8749\n",
      "[LightGBM] [Info] Number of data points in the train set: 319500, number of used features: 43\n",
      "[LightGBM] [Info] Start training from score 58.124626\n"
     ]
    },
    {
     "name": "stderr",
     "output_type": "stream",
     "text": [
      "[I 2024-01-13 07:00:24,323] Trial 12 finished with value: 14.231242190432008 and parameters: {'boosting_type': 'gbdt', 'num_leaves': 40, 'learning_rate': 0.07196663131360638, 'feature_fraction': 0.6980621535125956, 'bagging_fraction': 0.9993507096974406, 'bagging_freq': 10}. Best is trial 1 with value: 14.085554621221782.\n"
     ]
    },
    {
     "name": "stdout",
     "output_type": "stream",
     "text": [
      "[LightGBM] [Warning] bagging_freq is set=10, subsample_freq=0 will be ignored. Current value: bagging_freq=10\n",
      "[LightGBM] [Warning] feature_fraction is set=0.6980621535125956, colsample_bytree=1.0 will be ignored. Current value: feature_fraction=0.6980621535125956\n",
      "[LightGBM] [Warning] bagging_fraction is set=0.9993507096974406, subsample=1.0 will be ignored. Current value: bagging_fraction=0.9993507096974406\n",
      "[LightGBM] [Warning] bagging_freq is set=4, subsample_freq=0 will be ignored. Current value: bagging_freq=4\n",
      "[LightGBM] [Warning] feature_fraction is set=0.7467708745456958, colsample_bytree=1.0 will be ignored. Current value: feature_fraction=0.7467708745456958\n",
      "[LightGBM] [Warning] bagging_fraction is set=0.9680752220874405, subsample=1.0 will be ignored. Current value: bagging_fraction=0.9680752220874405\n",
      "[LightGBM] [Warning] bagging_freq is set=4, subsample_freq=0 will be ignored. Current value: bagging_freq=4\n",
      "[LightGBM] [Warning] feature_fraction is set=0.7467708745456958, colsample_bytree=1.0 will be ignored. Current value: feature_fraction=0.7467708745456958\n",
      "[LightGBM] [Warning] bagging_fraction is set=0.9680752220874405, subsample=1.0 will be ignored. Current value: bagging_fraction=0.9680752220874405\n",
      "[LightGBM] [Info] Auto-choosing row-wise multi-threading, the overhead of testing was 0.003852 seconds.\n",
      "You can set `force_row_wise=true` to remove the overhead.\n",
      "And if memory is not enough, you can set `force_col_wise=true`.\n",
      "[LightGBM] [Info] Total Bins 8749\n",
      "[LightGBM] [Info] Number of data points in the train set: 319500, number of used features: 43\n",
      "[LightGBM] [Info] Start training from score 58.124626\n"
     ]
    },
    {
     "name": "stderr",
     "output_type": "stream",
     "text": [
      "[I 2024-01-13 07:00:25,888] Trial 13 finished with value: 14.705645999553985 and parameters: {'boosting_type': 'gbdt', 'num_leaves': 13, 'learning_rate': 0.08158030715457605, 'feature_fraction': 0.7467708745456958, 'bagging_fraction': 0.9680752220874405, 'bagging_freq': 4}. Best is trial 1 with value: 14.085554621221782.\n"
     ]
    },
    {
     "name": "stdout",
     "output_type": "stream",
     "text": [
      "[LightGBM] [Warning] bagging_freq is set=4, subsample_freq=0 will be ignored. Current value: bagging_freq=4\n",
      "[LightGBM] [Warning] feature_fraction is set=0.7467708745456958, colsample_bytree=1.0 will be ignored. Current value: feature_fraction=0.7467708745456958\n",
      "[LightGBM] [Warning] bagging_fraction is set=0.9680752220874405, subsample=1.0 will be ignored. Current value: bagging_fraction=0.9680752220874405\n",
      "[LightGBM] [Warning] bagging_freq is set=4, subsample_freq=0 will be ignored. Current value: bagging_freq=4\n",
      "[LightGBM] [Warning] feature_fraction is set=0.9920166135767436, colsample_bytree=1.0 will be ignored. Current value: feature_fraction=0.9920166135767436\n",
      "[LightGBM] [Warning] bagging_fraction is set=0.3955004580369146, subsample=1.0 will be ignored. Current value: bagging_fraction=0.3955004580369146\n",
      "[LightGBM] [Warning] bagging_freq is set=4, subsample_freq=0 will be ignored. Current value: bagging_freq=4\n",
      "[LightGBM] [Warning] feature_fraction is set=0.9920166135767436, colsample_bytree=1.0 will be ignored. Current value: feature_fraction=0.9920166135767436\n",
      "[LightGBM] [Warning] bagging_fraction is set=0.3955004580369146, subsample=1.0 will be ignored. Current value: bagging_fraction=0.3955004580369146\n",
      "[LightGBM] [Info] Auto-choosing row-wise multi-threading, the overhead of testing was 0.004889 seconds.\n",
      "You can set `force_row_wise=true` to remove the overhead.\n",
      "And if memory is not enough, you can set `force_col_wise=true`.\n",
      "[LightGBM] [Info] Total Bins 8749\n",
      "[LightGBM] [Info] Number of data points in the train set: 319500, number of used features: 43\n",
      "[LightGBM] [Info] Start training from score 58.124626\n"
     ]
    },
    {
     "name": "stderr",
     "output_type": "stream",
     "text": [
      "[I 2024-01-13 07:00:28,308] Trial 14 finished with value: 14.676254677487677 and parameters: {'boosting_type': 'gbdt', 'num_leaves': 44, 'learning_rate': 0.037275250457299305, 'feature_fraction': 0.9920166135767436, 'bagging_fraction': 0.3955004580369146, 'bagging_freq': 4}. Best is trial 1 with value: 14.085554621221782.\n"
     ]
    },
    {
     "name": "stdout",
     "output_type": "stream",
     "text": [
      "[LightGBM] [Warning] bagging_freq is set=4, subsample_freq=0 will be ignored. Current value: bagging_freq=4\n",
      "[LightGBM] [Warning] feature_fraction is set=0.9920166135767436, colsample_bytree=1.0 will be ignored. Current value: feature_fraction=0.9920166135767436\n",
      "[LightGBM] [Warning] bagging_fraction is set=0.3955004580369146, subsample=1.0 will be ignored. Current value: bagging_fraction=0.3955004580369146\n",
      "[LightGBM] [Warning] feature_fraction is set=0.5201052257516716, colsample_bytree=1.0 will be ignored. Current value: feature_fraction=0.5201052257516716\n",
      "[LightGBM] [Warning] Found boosting=goss. For backwards compatibility reasons, LightGBM interprets this as boosting=gbdt, data_sample_strategy=goss.To suppress this warning, set data_sample_strategy=goss instead.\n",
      "[LightGBM] [Warning] feature_fraction is set=0.5201052257516716, colsample_bytree=1.0 will be ignored. Current value: feature_fraction=0.5201052257516716\n",
      "[LightGBM] [Warning] Found boosting=goss. For backwards compatibility reasons, LightGBM interprets this as boosting=gbdt, data_sample_strategy=goss.To suppress this warning, set data_sample_strategy=goss instead.\n",
      "[LightGBM] [Info] Auto-choosing row-wise multi-threading, the overhead of testing was 0.003129 seconds.\n",
      "You can set `force_row_wise=true` to remove the overhead.\n",
      "And if memory is not enough, you can set `force_col_wise=true`.\n",
      "[LightGBM] [Info] Total Bins 8749\n",
      "[LightGBM] [Info] Number of data points in the train set: 319500, number of used features: 43\n",
      "[LightGBM] [Info] Using GOSS\n",
      "[LightGBM] [Info] Start training from score 58.124626\n"
     ]
    },
    {
     "name": "stderr",
     "output_type": "stream",
     "text": [
      "[I 2024-01-13 07:00:32,647] Trial 15 finished with value: 14.079700233498723 and parameters: {'boosting_type': 'goss', 'num_leaves': 100, 'learning_rate': 0.05554058826156114, 'feature_fraction': 0.5201052257516716}. Best is trial 15 with value: 14.079700233498723.\n"
     ]
    },
    {
     "name": "stdout",
     "output_type": "stream",
     "text": [
      "[LightGBM] [Warning] feature_fraction is set=0.5201052257516716, colsample_bytree=1.0 will be ignored. Current value: feature_fraction=0.5201052257516716\n",
      "[LightGBM] [Warning] Found boosting=goss. For backwards compatibility reasons, LightGBM interprets this as boosting=gbdt, data_sample_strategy=goss.To suppress this warning, set data_sample_strategy=goss instead.\n",
      "[LightGBM] [Warning] feature_fraction is set=0.5193383466994453, colsample_bytree=1.0 will be ignored. Current value: feature_fraction=0.5193383466994453\n",
      "[LightGBM] [Warning] Found boosting=goss. For backwards compatibility reasons, LightGBM interprets this as boosting=gbdt, data_sample_strategy=goss.To suppress this warning, set data_sample_strategy=goss instead.\n",
      "[LightGBM] [Warning] feature_fraction is set=0.5193383466994453, colsample_bytree=1.0 will be ignored. Current value: feature_fraction=0.5193383466994453\n",
      "[LightGBM] [Warning] Found boosting=goss. For backwards compatibility reasons, LightGBM interprets this as boosting=gbdt, data_sample_strategy=goss.To suppress this warning, set data_sample_strategy=goss instead.\n",
      "[LightGBM] [Info] Auto-choosing row-wise multi-threading, the overhead of testing was 0.003231 seconds.\n",
      "You can set `force_row_wise=true` to remove the overhead.\n",
      "And if memory is not enough, you can set `force_col_wise=true`.\n",
      "[LightGBM] [Info] Total Bins 8749\n",
      "[LightGBM] [Info] Number of data points in the train set: 319500, number of used features: 43\n",
      "[LightGBM] [Info] Using GOSS\n",
      "[LightGBM] [Info] Start training from score 58.124626\n"
     ]
    },
    {
     "name": "stderr",
     "output_type": "stream",
     "text": [
      "[I 2024-01-13 07:00:37,121] Trial 16 finished with value: 14.064866509772452 and parameters: {'boosting_type': 'goss', 'num_leaves': 100, 'learning_rate': 0.05454772879318904, 'feature_fraction': 0.5193383466994453}. Best is trial 16 with value: 14.064866509772452.\n"
     ]
    },
    {
     "name": "stdout",
     "output_type": "stream",
     "text": [
      "[LightGBM] [Warning] feature_fraction is set=0.5193383466994453, colsample_bytree=1.0 will be ignored. Current value: feature_fraction=0.5193383466994453\n",
      "[LightGBM] [Warning] Found boosting=goss. For backwards compatibility reasons, LightGBM interprets this as boosting=gbdt, data_sample_strategy=goss.To suppress this warning, set data_sample_strategy=goss instead.\n",
      "[LightGBM] [Warning] feature_fraction is set=0.5168582275236929, colsample_bytree=1.0 will be ignored. Current value: feature_fraction=0.5168582275236929\n",
      "[LightGBM] [Warning] Found boosting=goss. For backwards compatibility reasons, LightGBM interprets this as boosting=gbdt, data_sample_strategy=goss.To suppress this warning, set data_sample_strategy=goss instead.\n",
      "[LightGBM] [Warning] feature_fraction is set=0.5168582275236929, colsample_bytree=1.0 will be ignored. Current value: feature_fraction=0.5168582275236929\n",
      "[LightGBM] [Warning] Found boosting=goss. For backwards compatibility reasons, LightGBM interprets this as boosting=gbdt, data_sample_strategy=goss.To suppress this warning, set data_sample_strategy=goss instead.\n",
      "[LightGBM] [Info] Auto-choosing row-wise multi-threading, the overhead of testing was 0.003165 seconds.\n",
      "You can set `force_row_wise=true` to remove the overhead.\n",
      "And if memory is not enough, you can set `force_col_wise=true`.\n",
      "[LightGBM] [Info] Total Bins 8749\n",
      "[LightGBM] [Info] Number of data points in the train set: 319500, number of used features: 43\n",
      "[LightGBM] [Info] Using GOSS\n",
      "[LightGBM] [Info] Start training from score 58.124626\n"
     ]
    },
    {
     "name": "stderr",
     "output_type": "stream",
     "text": [
      "[I 2024-01-13 07:00:41,362] Trial 17 finished with value: 14.367198898689725 and parameters: {'boosting_type': 'goss', 'num_leaves': 99, 'learning_rate': 0.040399845739908714, 'feature_fraction': 0.5168582275236929}. Best is trial 16 with value: 14.064866509772452.\n"
     ]
    },
    {
     "name": "stdout",
     "output_type": "stream",
     "text": [
      "[LightGBM] [Warning] feature_fraction is set=0.5168582275236929, colsample_bytree=1.0 will be ignored. Current value: feature_fraction=0.5168582275236929\n",
      "[LightGBM] [Warning] Found boosting=goss. For backwards compatibility reasons, LightGBM interprets this as boosting=gbdt, data_sample_strategy=goss.To suppress this warning, set data_sample_strategy=goss instead.\n",
      "[LightGBM] [Warning] feature_fraction is set=0.3426151434413113, colsample_bytree=1.0 will be ignored. Current value: feature_fraction=0.3426151434413113\n",
      "[LightGBM] [Warning] Found boosting=goss. For backwards compatibility reasons, LightGBM interprets this as boosting=gbdt, data_sample_strategy=goss.To suppress this warning, set data_sample_strategy=goss instead.\n",
      "[LightGBM] [Warning] feature_fraction is set=0.3426151434413113, colsample_bytree=1.0 will be ignored. Current value: feature_fraction=0.3426151434413113\n",
      "[LightGBM] [Warning] Found boosting=goss. For backwards compatibility reasons, LightGBM interprets this as boosting=gbdt, data_sample_strategy=goss.To suppress this warning, set data_sample_strategy=goss instead.\n",
      "[LightGBM] [Info] Auto-choosing row-wise multi-threading, the overhead of testing was 0.002552 seconds.\n",
      "You can set `force_row_wise=true` to remove the overhead.\n",
      "And if memory is not enough, you can set `force_col_wise=true`.\n",
      "[LightGBM] [Info] Total Bins 8749\n",
      "[LightGBM] [Info] Number of data points in the train set: 319500, number of used features: 43\n",
      "[LightGBM] [Info] Using GOSS\n",
      "[LightGBM] [Info] Start training from score 58.124626\n"
     ]
    },
    {
     "name": "stderr",
     "output_type": "stream",
     "text": [
      "[I 2024-01-13 07:00:44,806] Trial 18 finished with value: 14.398445921617927 and parameters: {'boosting_type': 'goss', 'num_leaves': 77, 'learning_rate': 0.052437179532057315, 'feature_fraction': 0.3426151434413113}. Best is trial 16 with value: 14.064866509772452.\n"
     ]
    },
    {
     "name": "stdout",
     "output_type": "stream",
     "text": [
      "[LightGBM] [Warning] feature_fraction is set=0.3426151434413113, colsample_bytree=1.0 will be ignored. Current value: feature_fraction=0.3426151434413113\n",
      "[LightGBM] [Warning] Found boosting=goss. For backwards compatibility reasons, LightGBM interprets this as boosting=gbdt, data_sample_strategy=goss.To suppress this warning, set data_sample_strategy=goss instead.\n",
      "[LightGBM] [Warning] feature_fraction is set=0.36588102826912394, colsample_bytree=1.0 will be ignored. Current value: feature_fraction=0.36588102826912394\n",
      "[LightGBM] [Warning] Found boosting=goss. For backwards compatibility reasons, LightGBM interprets this as boosting=gbdt, data_sample_strategy=goss.To suppress this warning, set data_sample_strategy=goss instead.\n",
      "[LightGBM] [Warning] feature_fraction is set=0.36588102826912394, colsample_bytree=1.0 will be ignored. Current value: feature_fraction=0.36588102826912394\n",
      "[LightGBM] [Warning] Found boosting=goss. For backwards compatibility reasons, LightGBM interprets this as boosting=gbdt, data_sample_strategy=goss.To suppress this warning, set data_sample_strategy=goss instead.\n",
      "[LightGBM] [Info] Auto-choosing row-wise multi-threading, the overhead of testing was 0.002533 seconds.\n",
      "You can set `force_row_wise=true` to remove the overhead.\n",
      "And if memory is not enough, you can set `force_col_wise=true`.\n",
      "[LightGBM] [Info] Total Bins 8749\n",
      "[LightGBM] [Info] Number of data points in the train set: 319500, number of used features: 43\n",
      "[LightGBM] [Info] Using GOSS\n",
      "[LightGBM] [Info] Start training from score 58.124626\n"
     ]
    },
    {
     "name": "stderr",
     "output_type": "stream",
     "text": [
      "[I 2024-01-13 07:00:48,692] Trial 19 finished with value: 15.475303019414731 and parameters: {'boosting_type': 'goss', 'num_leaves': 90, 'learning_rate': 0.02875197541620689, 'feature_fraction': 0.36588102826912394}. Best is trial 16 with value: 14.064866509772452.\n"
     ]
    },
    {
     "name": "stdout",
     "output_type": "stream",
     "text": [
      "[LightGBM] [Warning] feature_fraction is set=0.36588102826912394, colsample_bytree=1.0 will be ignored. Current value: feature_fraction=0.36588102826912394\n",
      "[LightGBM] [Warning] Found boosting=goss. For backwards compatibility reasons, LightGBM interprets this as boosting=gbdt, data_sample_strategy=goss.To suppress this warning, set data_sample_strategy=goss instead.\n",
      "[LightGBM] [Warning] feature_fraction is set=0.11541374783782016, colsample_bytree=1.0 will be ignored. Current value: feature_fraction=0.11541374783782016\n",
      "[LightGBM] [Warning] Found boosting=goss. For backwards compatibility reasons, LightGBM interprets this as boosting=gbdt, data_sample_strategy=goss.To suppress this warning, set data_sample_strategy=goss instead.\n",
      "[LightGBM] [Warning] feature_fraction is set=0.11541374783782016, colsample_bytree=1.0 will be ignored. Current value: feature_fraction=0.11541374783782016\n",
      "[LightGBM] [Warning] Found boosting=goss. For backwards compatibility reasons, LightGBM interprets this as boosting=gbdt, data_sample_strategy=goss.To suppress this warning, set data_sample_strategy=goss instead.\n",
      "[LightGBM] [Info] Auto-choosing row-wise multi-threading, the overhead of testing was 0.001018 seconds.\n",
      "You can set `force_row_wise=true` to remove the overhead.\n",
      "And if memory is not enough, you can set `force_col_wise=true`.\n",
      "[LightGBM] [Info] Total Bins 8749\n",
      "[LightGBM] [Info] Number of data points in the train set: 319500, number of used features: 43\n",
      "[LightGBM] [Info] Using GOSS\n",
      "[LightGBM] [Info] Start training from score 58.124626\n"
     ]
    },
    {
     "name": "stderr",
     "output_type": "stream",
     "text": [
      "[I 2024-01-13 07:00:51,954] Trial 20 finished with value: 14.892607502202024 and parameters: {'boosting_type': 'goss', 'num_leaves': 75, 'learning_rate': 0.09621242373778516, 'feature_fraction': 0.11541374783782016}. Best is trial 16 with value: 14.064866509772452.\n"
     ]
    },
    {
     "name": "stdout",
     "output_type": "stream",
     "text": [
      "[LightGBM] [Warning] feature_fraction is set=0.11541374783782016, colsample_bytree=1.0 will be ignored. Current value: feature_fraction=0.11541374783782016\n",
      "[LightGBM] [Warning] Found boosting=goss. For backwards compatibility reasons, LightGBM interprets this as boosting=gbdt, data_sample_strategy=goss.To suppress this warning, set data_sample_strategy=goss instead.\n",
      "[LightGBM] [Warning] feature_fraction is set=0.557284416515319, colsample_bytree=1.0 will be ignored. Current value: feature_fraction=0.557284416515319\n",
      "[LightGBM] [Warning] Found boosting=goss. For backwards compatibility reasons, LightGBM interprets this as boosting=gbdt, data_sample_strategy=goss.To suppress this warning, set data_sample_strategy=goss instead.\n",
      "[LightGBM] [Warning] feature_fraction is set=0.557284416515319, colsample_bytree=1.0 will be ignored. Current value: feature_fraction=0.557284416515319\n",
      "[LightGBM] [Warning] Found boosting=goss. For backwards compatibility reasons, LightGBM interprets this as boosting=gbdt, data_sample_strategy=goss.To suppress this warning, set data_sample_strategy=goss instead.\n",
      "[LightGBM] [Info] Auto-choosing row-wise multi-threading, the overhead of testing was 0.003061 seconds.\n",
      "You can set `force_row_wise=true` to remove the overhead.\n",
      "And if memory is not enough, you can set `force_col_wise=true`.\n",
      "[LightGBM] [Info] Total Bins 8749\n",
      "[LightGBM] [Info] Number of data points in the train set: 319500, number of used features: 43\n",
      "[LightGBM] [Info] Using GOSS\n",
      "[LightGBM] [Info] Start training from score 58.124626\n"
     ]
    },
    {
     "name": "stderr",
     "output_type": "stream",
     "text": [
      "[I 2024-01-13 07:00:55,882] Trial 21 finished with value: 14.024170390547752 and parameters: {'boosting_type': 'goss', 'num_leaves': 88, 'learning_rate': 0.05804762590890947, 'feature_fraction': 0.557284416515319}. Best is trial 21 with value: 14.024170390547752.\n"
     ]
    },
    {
     "name": "stdout",
     "output_type": "stream",
     "text": [
      "[LightGBM] [Warning] feature_fraction is set=0.557284416515319, colsample_bytree=1.0 will be ignored. Current value: feature_fraction=0.557284416515319\n",
      "[LightGBM] [Warning] Found boosting=goss. For backwards compatibility reasons, LightGBM interprets this as boosting=gbdt, data_sample_strategy=goss.To suppress this warning, set data_sample_strategy=goss instead.\n",
      "[LightGBM] [Warning] feature_fraction is set=0.5855433233047798, colsample_bytree=1.0 will be ignored. Current value: feature_fraction=0.5855433233047798\n",
      "[LightGBM] [Warning] Found boosting=goss. For backwards compatibility reasons, LightGBM interprets this as boosting=gbdt, data_sample_strategy=goss.To suppress this warning, set data_sample_strategy=goss instead.\n",
      "[LightGBM] [Warning] feature_fraction is set=0.5855433233047798, colsample_bytree=1.0 will be ignored. Current value: feature_fraction=0.5855433233047798\n",
      "[LightGBM] [Warning] Found boosting=goss. For backwards compatibility reasons, LightGBM interprets this as boosting=gbdt, data_sample_strategy=goss.To suppress this warning, set data_sample_strategy=goss instead.\n",
      "[LightGBM] [Info] Auto-choosing row-wise multi-threading, the overhead of testing was 0.003121 seconds.\n",
      "You can set `force_row_wise=true` to remove the overhead.\n",
      "And if memory is not enough, you can set `force_col_wise=true`.\n",
      "[LightGBM] [Info] Total Bins 8749\n",
      "[LightGBM] [Info] Number of data points in the train set: 319500, number of used features: 43\n",
      "[LightGBM] [Info] Using GOSS\n",
      "[LightGBM] [Info] Start training from score 58.124626\n"
     ]
    },
    {
     "name": "stderr",
     "output_type": "stream",
     "text": [
      "[I 2024-01-13 07:01:00,227] Trial 22 finished with value: 13.943944481372206 and parameters: {'boosting_type': 'goss', 'num_leaves': 99, 'learning_rate': 0.059548122410772855, 'feature_fraction': 0.5855433233047798}. Best is trial 22 with value: 13.943944481372206.\n"
     ]
    },
    {
     "name": "stdout",
     "output_type": "stream",
     "text": [
      "[LightGBM] [Warning] feature_fraction is set=0.5855433233047798, colsample_bytree=1.0 will be ignored. Current value: feature_fraction=0.5855433233047798\n",
      "[LightGBM] [Warning] Found boosting=goss. For backwards compatibility reasons, LightGBM interprets this as boosting=gbdt, data_sample_strategy=goss.To suppress this warning, set data_sample_strategy=goss instead.\n",
      "[LightGBM] [Warning] feature_fraction is set=0.6022225793144601, colsample_bytree=1.0 will be ignored. Current value: feature_fraction=0.6022225793144601\n",
      "[LightGBM] [Warning] Found boosting=goss. For backwards compatibility reasons, LightGBM interprets this as boosting=gbdt, data_sample_strategy=goss.To suppress this warning, set data_sample_strategy=goss instead.\n",
      "[LightGBM] [Warning] feature_fraction is set=0.6022225793144601, colsample_bytree=1.0 will be ignored. Current value: feature_fraction=0.6022225793144601\n",
      "[LightGBM] [Warning] Found boosting=goss. For backwards compatibility reasons, LightGBM interprets this as boosting=gbdt, data_sample_strategy=goss.To suppress this warning, set data_sample_strategy=goss instead.\n",
      "[LightGBM] [Info] Auto-choosing row-wise multi-threading, the overhead of testing was 0.004001 seconds.\n",
      "You can set `force_row_wise=true` to remove the overhead.\n",
      "And if memory is not enough, you can set `force_col_wise=true`.\n",
      "[LightGBM] [Info] Total Bins 8749\n",
      "[LightGBM] [Info] Number of data points in the train set: 319500, number of used features: 43\n",
      "[LightGBM] [Info] Using GOSS\n",
      "[LightGBM] [Info] Start training from score 58.124626\n"
     ]
    },
    {
     "name": "stderr",
     "output_type": "stream",
     "text": [
      "[I 2024-01-13 07:01:04,075] Trial 23 finished with value: 13.954301242905284 and parameters: {'boosting_type': 'goss', 'num_leaves': 91, 'learning_rate': 0.0597342718135392, 'feature_fraction': 0.6022225793144601}. Best is trial 22 with value: 13.943944481372206.\n"
     ]
    },
    {
     "name": "stdout",
     "output_type": "stream",
     "text": [
      "[LightGBM] [Warning] feature_fraction is set=0.6022225793144601, colsample_bytree=1.0 will be ignored. Current value: feature_fraction=0.6022225793144601\n",
      "[LightGBM] [Warning] Found boosting=goss. For backwards compatibility reasons, LightGBM interprets this as boosting=gbdt, data_sample_strategy=goss.To suppress this warning, set data_sample_strategy=goss instead.\n",
      "[LightGBM] [Warning] feature_fraction is set=0.618614572969479, colsample_bytree=1.0 will be ignored. Current value: feature_fraction=0.618614572969479\n",
      "[LightGBM] [Warning] Found boosting=goss. For backwards compatibility reasons, LightGBM interprets this as boosting=gbdt, data_sample_strategy=goss.To suppress this warning, set data_sample_strategy=goss instead.\n",
      "[LightGBM] [Warning] feature_fraction is set=0.618614572969479, colsample_bytree=1.0 will be ignored. Current value: feature_fraction=0.618614572969479\n",
      "[LightGBM] [Warning] Found boosting=goss. For backwards compatibility reasons, LightGBM interprets this as boosting=gbdt, data_sample_strategy=goss.To suppress this warning, set data_sample_strategy=goss instead.\n",
      "[LightGBM] [Info] Auto-choosing row-wise multi-threading, the overhead of testing was 0.003786 seconds.\n",
      "You can set `force_row_wise=true` to remove the overhead.\n",
      "And if memory is not enough, you can set `force_col_wise=true`.\n",
      "[LightGBM] [Info] Total Bins 8749\n",
      "[LightGBM] [Info] Number of data points in the train set: 319500, number of used features: 43\n",
      "[LightGBM] [Info] Using GOSS\n",
      "[LightGBM] [Info] Start training from score 58.124626\n"
     ]
    },
    {
     "name": "stderr",
     "output_type": "stream",
     "text": [
      "[I 2024-01-13 07:01:07,777] Trial 24 finished with value: 13.953543334960571 and parameters: {'boosting_type': 'goss', 'num_leaves': 90, 'learning_rate': 0.07144255713323393, 'feature_fraction': 0.618614572969479}. Best is trial 22 with value: 13.943944481372206.\n"
     ]
    },
    {
     "name": "stdout",
     "output_type": "stream",
     "text": [
      "[LightGBM] [Warning] feature_fraction is set=0.618614572969479, colsample_bytree=1.0 will be ignored. Current value: feature_fraction=0.618614572969479\n",
      "[LightGBM] [Warning] Found boosting=goss. For backwards compatibility reasons, LightGBM interprets this as boosting=gbdt, data_sample_strategy=goss.To suppress this warning, set data_sample_strategy=goss instead.\n",
      "[LightGBM] [Warning] feature_fraction is set=0.7766365039532385, colsample_bytree=1.0 will be ignored. Current value: feature_fraction=0.7766365039532385\n",
      "[LightGBM] [Warning] Found boosting=goss. For backwards compatibility reasons, LightGBM interprets this as boosting=gbdt, data_sample_strategy=goss.To suppress this warning, set data_sample_strategy=goss instead.\n",
      "[LightGBM] [Warning] feature_fraction is set=0.7766365039532385, colsample_bytree=1.0 will be ignored. Current value: feature_fraction=0.7766365039532385\n",
      "[LightGBM] [Warning] Found boosting=goss. For backwards compatibility reasons, LightGBM interprets this as boosting=gbdt, data_sample_strategy=goss.To suppress this warning, set data_sample_strategy=goss instead.\n",
      "[LightGBM] [Info] Auto-choosing row-wise multi-threading, the overhead of testing was 0.004371 seconds.\n",
      "You can set `force_row_wise=true` to remove the overhead.\n",
      "And if memory is not enough, you can set `force_col_wise=true`.\n",
      "[LightGBM] [Info] Total Bins 8749\n",
      "[LightGBM] [Info] Number of data points in the train set: 319500, number of used features: 43\n",
      "[LightGBM] [Info] Using GOSS\n",
      "[LightGBM] [Info] Start training from score 58.124626\n"
     ]
    },
    {
     "name": "stderr",
     "output_type": "stream",
     "text": [
      "[I 2024-01-13 07:01:11,537] Trial 25 finished with value: 13.812613356778972 and parameters: {'boosting_type': 'goss', 'num_leaves': 92, 'learning_rate': 0.07432331651428616, 'feature_fraction': 0.7766365039532385}. Best is trial 25 with value: 13.812613356778972.\n"
     ]
    },
    {
     "name": "stdout",
     "output_type": "stream",
     "text": [
      "[LightGBM] [Warning] feature_fraction is set=0.7766365039532385, colsample_bytree=1.0 will be ignored. Current value: feature_fraction=0.7766365039532385\n",
      "[LightGBM] [Warning] Found boosting=goss. For backwards compatibility reasons, LightGBM interprets this as boosting=gbdt, data_sample_strategy=goss.To suppress this warning, set data_sample_strategy=goss instead.\n",
      "[LightGBM] [Warning] feature_fraction is set=0.8004958742817382, colsample_bytree=1.0 will be ignored. Current value: feature_fraction=0.8004958742817382\n",
      "[LightGBM] [Warning] Found boosting=goss. For backwards compatibility reasons, LightGBM interprets this as boosting=gbdt, data_sample_strategy=goss.To suppress this warning, set data_sample_strategy=goss instead.\n",
      "[LightGBM] [Warning] feature_fraction is set=0.8004958742817382, colsample_bytree=1.0 will be ignored. Current value: feature_fraction=0.8004958742817382\n",
      "[LightGBM] [Warning] Found boosting=goss. For backwards compatibility reasons, LightGBM interprets this as boosting=gbdt, data_sample_strategy=goss.To suppress this warning, set data_sample_strategy=goss instead.\n",
      "[LightGBM] [Info] Auto-choosing row-wise multi-threading, the overhead of testing was 0.004307 seconds.\n",
      "You can set `force_row_wise=true` to remove the overhead.\n",
      "And if memory is not enough, you can set `force_col_wise=true`.\n",
      "[LightGBM] [Info] Total Bins 8749\n",
      "[LightGBM] [Info] Number of data points in the train set: 319500, number of used features: 43\n",
      "[LightGBM] [Info] Using GOSS\n",
      "[LightGBM] [Info] Start training from score 58.124626\n"
     ]
    },
    {
     "name": "stderr",
     "output_type": "stream",
     "text": [
      "[I 2024-01-13 07:01:15,149] Trial 26 finished with value: 13.820619279468884 and parameters: {'boosting_type': 'goss', 'num_leaves': 81, 'learning_rate': 0.07453199826289643, 'feature_fraction': 0.8004958742817382}. Best is trial 25 with value: 13.812613356778972.\n"
     ]
    },
    {
     "name": "stdout",
     "output_type": "stream",
     "text": [
      "[LightGBM] [Warning] feature_fraction is set=0.8004958742817382, colsample_bytree=1.0 will be ignored. Current value: feature_fraction=0.8004958742817382\n",
      "[LightGBM] [Warning] Found boosting=goss. For backwards compatibility reasons, LightGBM interprets this as boosting=gbdt, data_sample_strategy=goss.To suppress this warning, set data_sample_strategy=goss instead.\n",
      "[LightGBM] [Warning] feature_fraction is set=0.7919976452100776, colsample_bytree=1.0 will be ignored. Current value: feature_fraction=0.7919976452100776\n",
      "[LightGBM] [Warning] Found boosting=goss. For backwards compatibility reasons, LightGBM interprets this as boosting=gbdt, data_sample_strategy=goss.To suppress this warning, set data_sample_strategy=goss instead.\n",
      "[LightGBM] [Warning] feature_fraction is set=0.7919976452100776, colsample_bytree=1.0 will be ignored. Current value: feature_fraction=0.7919976452100776\n",
      "[LightGBM] [Warning] Found boosting=goss. For backwards compatibility reasons, LightGBM interprets this as boosting=gbdt, data_sample_strategy=goss.To suppress this warning, set data_sample_strategy=goss instead.\n",
      "[LightGBM] [Info] Auto-choosing row-wise multi-threading, the overhead of testing was 0.004010 seconds.\n",
      "You can set `force_row_wise=true` to remove the overhead.\n",
      "And if memory is not enough, you can set `force_col_wise=true`.\n",
      "[LightGBM] [Info] Total Bins 8749\n",
      "[LightGBM] [Info] Number of data points in the train set: 319500, number of used features: 43\n",
      "[LightGBM] [Info] Using GOSS\n",
      "[LightGBM] [Info] Start training from score 58.124626\n"
     ]
    },
    {
     "name": "stderr",
     "output_type": "stream",
     "text": [
      "[I 2024-01-13 07:01:18,520] Trial 27 finished with value: 13.933275708444363 and parameters: {'boosting_type': 'goss', 'num_leaves': 72, 'learning_rate': 0.0754745630971455, 'feature_fraction': 0.7919976452100776}. Best is trial 25 with value: 13.812613356778972.\n"
     ]
    },
    {
     "name": "stdout",
     "output_type": "stream",
     "text": [
      "[LightGBM] [Warning] feature_fraction is set=0.7919976452100776, colsample_bytree=1.0 will be ignored. Current value: feature_fraction=0.7919976452100776\n",
      "[LightGBM] [Warning] Found boosting=goss. For backwards compatibility reasons, LightGBM interprets this as boosting=gbdt, data_sample_strategy=goss.To suppress this warning, set data_sample_strategy=goss instead.\n",
      "[LightGBM] [Warning] feature_fraction is set=0.9230023109797845, colsample_bytree=1.0 will be ignored. Current value: feature_fraction=0.9230023109797845\n",
      "[LightGBM] [Warning] Found boosting=goss. For backwards compatibility reasons, LightGBM interprets this as boosting=gbdt, data_sample_strategy=goss.To suppress this warning, set data_sample_strategy=goss instead.\n",
      "[LightGBM] [Warning] feature_fraction is set=0.9230023109797845, colsample_bytree=1.0 will be ignored. Current value: feature_fraction=0.9230023109797845\n",
      "[LightGBM] [Warning] Found boosting=goss. For backwards compatibility reasons, LightGBM interprets this as boosting=gbdt, data_sample_strategy=goss.To suppress this warning, set data_sample_strategy=goss instead.\n",
      "[LightGBM] [Info] Auto-choosing row-wise multi-threading, the overhead of testing was 0.005075 seconds.\n",
      "You can set `force_row_wise=true` to remove the overhead.\n",
      "And if memory is not enough, you can set `force_col_wise=true`.\n",
      "[LightGBM] [Info] Total Bins 8749\n",
      "[LightGBM] [Info] Number of data points in the train set: 319500, number of used features: 43\n",
      "[LightGBM] [Info] Using GOSS\n",
      "[LightGBM] [Info] Start training from score 58.124626\n"
     ]
    },
    {
     "name": "stderr",
     "output_type": "stream",
     "text": [
      "[I 2024-01-13 07:01:21,858] Trial 28 finished with value: 13.759965545578229 and parameters: {'boosting_type': 'goss', 'num_leaves': 73, 'learning_rate': 0.09001206299159156, 'feature_fraction': 0.9230023109797845}. Best is trial 28 with value: 13.759965545578229.\n"
     ]
    },
    {
     "name": "stdout",
     "output_type": "stream",
     "text": [
      "[LightGBM] [Warning] feature_fraction is set=0.9230023109797845, colsample_bytree=1.0 will be ignored. Current value: feature_fraction=0.9230023109797845\n",
      "[LightGBM] [Warning] Found boosting=goss. For backwards compatibility reasons, LightGBM interprets this as boosting=gbdt, data_sample_strategy=goss.To suppress this warning, set data_sample_strategy=goss instead.\n",
      "[LightGBM] [Warning] feature_fraction is set=0.9380413010204234, colsample_bytree=1.0 will be ignored. Current value: feature_fraction=0.9380413010204234\n",
      "[LightGBM] [Warning] Found boosting=goss. For backwards compatibility reasons, LightGBM interprets this as boosting=gbdt, data_sample_strategy=goss.To suppress this warning, set data_sample_strategy=goss instead.\n",
      "[LightGBM] [Warning] feature_fraction is set=0.9380413010204234, colsample_bytree=1.0 will be ignored. Current value: feature_fraction=0.9380413010204234\n",
      "[LightGBM] [Warning] Found boosting=goss. For backwards compatibility reasons, LightGBM interprets this as boosting=gbdt, data_sample_strategy=goss.To suppress this warning, set data_sample_strategy=goss instead.\n",
      "[LightGBM] [Info] Auto-choosing row-wise multi-threading, the overhead of testing was 0.004873 seconds.\n",
      "You can set `force_row_wise=true` to remove the overhead.\n",
      "And if memory is not enough, you can set `force_col_wise=true`.\n",
      "[LightGBM] [Info] Total Bins 8749\n",
      "[LightGBM] [Info] Number of data points in the train set: 319500, number of used features: 43\n",
      "[LightGBM] [Info] Using GOSS\n",
      "[LightGBM] [Info] Start training from score 58.124626\n"
     ]
    },
    {
     "name": "stderr",
     "output_type": "stream",
     "text": [
      "[I 2024-01-13 07:01:25,441] Trial 29 finished with value: 13.797810131729712 and parameters: {'boosting_type': 'goss', 'num_leaves': 82, 'learning_rate': 0.09038603309548435, 'feature_fraction': 0.9380413010204234}. Best is trial 28 with value: 13.759965545578229.\n"
     ]
    },
    {
     "name": "stdout",
     "output_type": "stream",
     "text": [
      "[LightGBM] [Warning] feature_fraction is set=0.9380413010204234, colsample_bytree=1.0 will be ignored. Current value: feature_fraction=0.9380413010204234\n",
      "[LightGBM] [Warning] Found boosting=goss. For backwards compatibility reasons, LightGBM interprets this as boosting=gbdt, data_sample_strategy=goss.To suppress this warning, set data_sample_strategy=goss instead.\n",
      "Trial #0, Status: 1, Value: 21.850527845514513\n",
      "Trial #1, Status: 1, Value: 14.085554621221782\n",
      "Trial #2, Status: 1, Value: 15.010899378811985\n",
      "Trial #3, Status: 1, Value: 37.74718362990364\n",
      "Trial #4, Status: 1, Value: 14.405464364714199\n",
      "Trial #5, Status: 1, Value: 31.03046672797019\n",
      "Trial #6, Status: 1, Value: 14.43198495745078\n",
      "Trial #7, Status: 1, Value: 19.607092152811468\n",
      "Trial #8, Status: 1, Value: 16.21647530528232\n",
      "Trial #9, Status: 1, Value: 14.545694982087982\n",
      "Trial #10, Status: 1, Value: 14.348569134436664\n",
      "Trial #11, Status: 1, Value: 14.453514654783431\n",
      "Trial #12, Status: 1, Value: 14.231242190432008\n",
      "Trial #13, Status: 1, Value: 14.705645999553985\n",
      "Trial #14, Status: 1, Value: 14.676254677487677\n",
      "Trial #15, Status: 1, Value: 14.079700233498723\n",
      "Trial #16, Status: 1, Value: 14.064866509772452\n",
      "Trial #17, Status: 1, Value: 14.367198898689725\n",
      "Trial #18, Status: 1, Value: 14.398445921617927\n",
      "Trial #19, Status: 1, Value: 15.475303019414731\n",
      "Trial #20, Status: 1, Value: 14.892607502202024\n",
      "Trial #21, Status: 1, Value: 14.024170390547752\n",
      "Trial #22, Status: 1, Value: 13.943944481372206\n",
      "Trial #23, Status: 1, Value: 13.954301242905284\n",
      "Trial #24, Status: 1, Value: 13.953543334960571\n",
      "Trial #25, Status: 1, Value: 13.812613356778972\n",
      "Trial #26, Status: 1, Value: 13.820619279468884\n",
      "Trial #27, Status: 1, Value: 13.933275708444363\n",
      "Trial #28, Status: 1, Value: 13.759965545578229\n",
      "Trial #29, Status: 1, Value: 13.797810131729712\n"
     ]
    }
   ],
   "source": [
    "# Example usage:\n",
    "best_params = optimize_lightgbm(\n",
    "    X_train, y_train, custom_metric=lgbm_smape_evaluation, n_trials=30\n",
    ")"
   ]
  },
  {
   "cell_type": "code",
   "execution_count": 21,
   "id": "e9636a29-3ba2-48dc-b50e-f9c6bf07c425",
   "metadata": {},
   "outputs": [
    {
     "name": "stdout",
     "output_type": "stream",
     "text": [
      "{'boosting_type': 'goss', 'num_leaves': 73, 'learning_rate': 0.09001206299159156, 'feature_fraction': 0.9230023109797845}\n"
     ]
    }
   ],
   "source": [
    "print(best_params)"
   ]
  },
  {
   "cell_type": "code",
   "execution_count": 22,
   "id": "7e13d1c5-de7d-457d-84c7-18a04314ce29",
   "metadata": {},
   "outputs": [],
   "source": [
    "# {'boosting_type': 'goss', 'num_leaves': 99, 'learning_rate': 0.0795437061442507, 'feature_fraction': 0.777839615167178}"
   ]
  },
  {
   "cell_type": "code",
   "execution_count": 23,
   "id": "1ed76b1c-5d58-4ff4-9d6d-aa9bcc414310",
   "metadata": {},
   "outputs": [
    {
     "name": "stdout",
     "output_type": "stream",
     "text": [
      "[LightGBM] [Warning] feature_fraction is set=0.9230023109797845, colsample_bytree=1.0 will be ignored. Current value: feature_fraction=0.9230023109797845\n",
      "[LightGBM] [Warning] Found boosting=goss. For backwards compatibility reasons, LightGBM interprets this as boosting=gbdt, data_sample_strategy=goss.To suppress this warning, set data_sample_strategy=goss instead.\n",
      "[LightGBM] [Warning] feature_fraction is set=0.9230023109797845, colsample_bytree=1.0 will be ignored. Current value: feature_fraction=0.9230023109797845\n",
      "[LightGBM] [Warning] Found boosting=goss. For backwards compatibility reasons, LightGBM interprets this as boosting=gbdt, data_sample_strategy=goss.To suppress this warning, set data_sample_strategy=goss instead.\n",
      "[LightGBM] [Info] Auto-choosing row-wise multi-threading, the overhead of testing was 0.004368 seconds.\n",
      "You can set `force_row_wise=true` to remove the overhead.\n",
      "And if memory is not enough, you can set `force_col_wise=true`.\n",
      "[LightGBM] [Info] Total Bins 8749\n",
      "[LightGBM] [Info] Number of data points in the train set: 319500, number of used features: 43\n",
      "[LightGBM] [Info] Using GOSS\n",
      "[LightGBM] [Info] Start training from score 58.124626\n",
      "[LightGBM] [Warning] feature_fraction is set=0.9230023109797845, colsample_bytree=1.0 will be ignored. Current value: feature_fraction=0.9230023109797845\n",
      "[LightGBM] [Warning] Found boosting=goss. For backwards compatibility reasons, LightGBM interprets this as boosting=gbdt, data_sample_strategy=goss.To suppress this warning, set data_sample_strategy=goss instead.\n",
      "TRAIN SMAPE: 12.46362067266511\n",
      "[LightGBM] [Warning] feature_fraction is set=0.9230023109797845, colsample_bytree=1.0 will be ignored. Current value: feature_fraction=0.9230023109797845\n",
      "[LightGBM] [Warning] Found boosting=goss. For backwards compatibility reasons, LightGBM interprets this as boosting=gbdt, data_sample_strategy=goss.To suppress this warning, set data_sample_strategy=goss instead.\n",
      "VALID SMAPE: 13.759965545578229\n"
     ]
    }
   ],
   "source": [
    "# Training better model\n",
    "better_model = train_and_evaluate_lgbm(\n",
    "    X_train,\n",
    "    y_train,\n",
    "    X_val,\n",
    "    y_val,\n",
    "    custom_metric=lgbm_smape_evaluation,\n",
    "    model_params=best_params,\n",
    ")"
   ]
  },
  {
   "cell_type": "code",
   "execution_count": 27,
   "id": "287a14cd-f3b1-4352-b641-e3df86be09e1",
   "metadata": {},
   "outputs": [],
   "source": [
    "def save_model(model, file_path):\n",
    "    import pickle\n",
    "    from lightgbm import LGBMRegressor\n",
    "    \"\"\"\n",
    "    Save a machine learning model to a file.\n",
    "\n",
    "    Parameters:\n",
    "    - model: The trained model (sklearn or lightgbm).\n",
    "    - file_path: The file path where the model will be saved.\n",
    "    \"\"\"\n",
    "    if isinstance(model, LGBMRegressor):\n",
    "        # For LightGBM scikit-learn API models\n",
    "        model.booster_.save_model(file_path)\n",
    "        print(f\"LightGBM (scikit-learn API) model saved to {file_path}\")\n",
    "    else:\n",
    "        # For scikit-learn models\n",
    "        with open(file_path, 'wb') as file:\n",
    "            pickle.dump(model, file)\n",
    "        print(f\"Sklearn model saved to {file_path}\")"
   ]
  },
  {
   "cell_type": "code",
   "execution_count": 28,
   "id": "75e53116-c083-4b72-8ea4-04487048e468",
   "metadata": {},
   "outputs": [
    {
     "name": "stdout",
     "output_type": "stream",
     "text": [
      "LightGBM (scikit-learn API) model saved to ../model/sales_forecasting_model_45_features_v01.txt\n"
     ]
    }
   ],
   "source": [
    "model_version = \"01\"\n",
    "nums_features = 45\n",
    "model_path= f\"../model/sales_forecasting_model_{nums_features}_features_v{model_version}.txt\"\n",
    "save_model(better_model,file_path=model_path)"
   ]
  },
  {
   "cell_type": "code",
   "execution_count": 29,
   "id": "1b9a3204-e72a-4c1d-9d3a-851d6c030c17",
   "metadata": {},
   "outputs": [],
   "source": [
    "def save_data(df, file_path, file_format=\"feather\"):\n",
    "    \"\"\"\n",
    "    Save a DataFrame to a specified file format.\n",
    "\n",
    "    Parameters:\n",
    "    - df (pd.DataFrame): The DataFrame to be saved.\n",
    "    - file_path (str): The path where the file will be saved.\n",
    "    - file_format (str): The format in which to save the file. Supported formats: 'feather', 'csv'.\n",
    "                        Default is 'feather'.\n",
    "    Example:\n",
    "    ```python\n",
    "    # Assuming df is the DataFrame you want to save\n",
    "    save_data(df, 'output_data.feather', file_format='feather')\n",
    "    ```\n",
    "\n",
    "    Note:\n",
    "    - Make sure to have the required libraries (pandas and feather-format) installed.\n",
    "    \"\"\"\n",
    "    if file_format.lower() == \"feather\":\n",
    "        # Save to Feather format\n",
    "        df.to_feather(file_path)\n",
    "        print(f\"DataFrame saved to {file_path} in Feather format.\")\n",
    "    elif file_format.lower() == \"csv\":\n",
    "        # Save to CSV format\n",
    "        df.to_csv(file_path, index=False)\n",
    "        print(f\"DataFrame saved to {file_path} in CSV format.\")\n",
    "    else:\n",
    "        print(f\"Error: Unsupported file format '{file_format}'. Supported formats: 'feather', 'csv'.\")"
   ]
  },
  {
   "cell_type": "code",
   "execution_count": 30,
   "id": "3efbf92b-d4f1-4105-88ef-8920663056bb",
   "metadata": {},
   "outputs": [
    {
     "name": "stdout",
     "output_type": "stream",
     "text": [
      "DataFrame saved to ../data/validation-data/X_val_45_features.feather in Feather format.\n",
      "DataFrame saved to ../data/validation-data/y_val_45_features.feather in Feather format.\n"
     ]
    }
   ],
   "source": [
    "save_data(X_val.reset_index(), file_path=f\"../data/validation-data/X_val_{nums_features}_features.feather\")\n",
    "save_data(y_val.reset_index(), file_path=f\"../data/validation-data/y_val_{nums_features}_features.feather\")"
   ]
  },
  {
   "cell_type": "code",
   "execution_count": null,
   "id": "4f1a0834-0fd4-47a5-95a7-5f844a71ce01",
   "metadata": {},
   "outputs": [],
   "source": []
  }
 ],
 "metadata": {
  "kernelspec": {
   "display_name": "Python 3 (ipykernel)",
   "language": "python",
   "name": "python3"
  },
  "language_info": {
   "codemirror_mode": {
    "name": "ipython",
    "version": 3
   },
   "file_extension": ".py",
   "mimetype": "text/x-python",
   "name": "python",
   "nbconvert_exporter": "python",
   "pygments_lexer": "ipython3",
   "version": "3.10.6"
  }
 },
 "nbformat": 4,
 "nbformat_minor": 5
}
