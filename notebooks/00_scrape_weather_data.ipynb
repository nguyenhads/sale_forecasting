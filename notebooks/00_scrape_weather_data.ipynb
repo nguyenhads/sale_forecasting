{
 "cells": [
  {
   "cell_type": "code",
   "execution_count": 29,
   "id": "6c26cf46-6b16-4952-9242-447a74d1e668",
   "metadata": {},
   "outputs": [],
   "source": [
    "from datetime import datetime, timedelta\n",
    "from pathlib import Path\n",
    "\n",
    "import numpy as np\n",
    "\n",
    "\n",
    "def generate_synthetic_seasonal_weather_data(start_date, end_date):\n",
    "    date_format = \"%Y-%m-%d\"\n",
    "    start_date = datetime.strptime(start_date, date_format)\n",
    "    end_date = datetime.strptime(end_date, date_format)\n",
    "\n",
    "    date_range = pd.date_range(start_date, end_date, freq=\"D\")\n",
    "    weather_data = []\n",
    "    mean_temp_lst = [15, 25, 15, 5]\n",
    "    std_temp = 5\n",
    "    mean_humidity_lst = [50, 80, 60, 30]\n",
    "    std_humidity = 10\n",
    "\n",
    "    for date in date_range:\n",
    "        # Extract month to determine the season\n",
    "        month = date.month\n",
    "\n",
    "        # Apply seasonal variations\n",
    "        if 3 <= month <= 5:  # Spring\n",
    "            season = \"spring\"\n",
    "            temperature = max(0, np.random.normal(mean_temp_lst[0], std_temp))\n",
    "            humidity = max(0, np.random.normal(mean_humidity_lst[0], std_humidity))\n",
    "        elif 6 <= month <= 8:  # Summer\n",
    "            season = \"summer\"\n",
    "            temperature = max(0, np.random.normal(mean_temp_lst[1], std_temp))\n",
    "            humidity = max(0, np.random.normal(mean_humidity_lst[1], std_humidity))\n",
    "        elif 9 <= month <= 11:  # Fall\n",
    "            season = \"fall\"\n",
    "            temperature = max(0, np.random.normal(mean_temp_lst[2], std_temp))\n",
    "            humidity = max(0, np.random.normal(mean_humidity_lst[2], std_humidity))\n",
    "        else:  # Winter\n",
    "            season = \"winter\"\n",
    "            temperature = max(0, np.random.normal(mean_temp_lst[3], std_temp))\n",
    "            humidity = max(0, np.random.normal(mean_humidity_lst[3], std_humidity))\n",
    "\n",
    "        weather_data.append(\n",
    "            {\n",
    "                \"date\": date,\n",
    "                \"temperature\": temperature,\n",
    "                \"humidity\": humidity,\n",
    "                \"season\": season,\n",
    "            }\n",
    "        )\n",
    "\n",
    "    return pd.DataFrame(weather_data)"
   ]
  },
  {
   "cell_type": "code",
   "execution_count": 30,
   "id": "05e6923e-20cf-4e6d-a24d-3f033c0b5ade",
   "metadata": {},
   "outputs": [],
   "source": [
    "start_date = \"2016-01-01\"\n",
    "end_date = \"2017-12-31\"\n",
    "\n",
    "df_tokyo_weather = generate_synthetic_seasonal_weather_data(start_date, end_date)"
   ]
  },
  {
   "cell_type": "code",
   "execution_count": 33,
   "id": "bdc66340-807d-43d2-8914-614554a516e2",
   "metadata": {},
   "outputs": [],
   "source": [
    "df_tokyo_weather = df_tokyo_weather.assign(year=lambda df: df.date.dt.year)"
   ]
  },
  {
   "cell_type": "code",
   "execution_count": 34,
   "id": "b0801172-158e-47b6-b769-2f6c668d2018",
   "metadata": {},
   "outputs": [
    {
     "data": {
      "text/html": [
       "<div>\n",
       "<style scoped>\n",
       "    .dataframe tbody tr th:only-of-type {\n",
       "        vertical-align: middle;\n",
       "    }\n",
       "\n",
       "    .dataframe tbody tr th {\n",
       "        vertical-align: top;\n",
       "    }\n",
       "\n",
       "    .dataframe thead th {\n",
       "        text-align: right;\n",
       "    }\n",
       "</style>\n",
       "<table border=\"1\" class=\"dataframe\">\n",
       "  <thead>\n",
       "    <tr style=\"text-align: right;\">\n",
       "      <th></th>\n",
       "      <th></th>\n",
       "      <th>temperature</th>\n",
       "      <th>humidity</th>\n",
       "    </tr>\n",
       "    <tr>\n",
       "      <th>year</th>\n",
       "      <th>season</th>\n",
       "      <th></th>\n",
       "      <th></th>\n",
       "    </tr>\n",
       "  </thead>\n",
       "  <tbody>\n",
       "    <tr>\n",
       "      <th rowspan=\"4\" valign=\"top\">2016</th>\n",
       "      <th>fall</th>\n",
       "      <td>15.182122</td>\n",
       "      <td>61.107800</td>\n",
       "    </tr>\n",
       "    <tr>\n",
       "      <th>spring</th>\n",
       "      <td>14.699303</td>\n",
       "      <td>49.456428</td>\n",
       "    </tr>\n",
       "    <tr>\n",
       "      <th>summer</th>\n",
       "      <td>24.510443</td>\n",
       "      <td>79.468291</td>\n",
       "    </tr>\n",
       "    <tr>\n",
       "      <th>winter</th>\n",
       "      <td>6.408534</td>\n",
       "      <td>31.659593</td>\n",
       "    </tr>\n",
       "    <tr>\n",
       "      <th rowspan=\"4\" valign=\"top\">2017</th>\n",
       "      <th>fall</th>\n",
       "      <td>15.682703</td>\n",
       "      <td>60.184843</td>\n",
       "    </tr>\n",
       "    <tr>\n",
       "      <th>spring</th>\n",
       "      <td>14.546191</td>\n",
       "      <td>50.451363</td>\n",
       "    </tr>\n",
       "    <tr>\n",
       "      <th>summer</th>\n",
       "      <td>25.355923</td>\n",
       "      <td>80.619643</td>\n",
       "    </tr>\n",
       "    <tr>\n",
       "      <th>winter</th>\n",
       "      <td>5.363609</td>\n",
       "      <td>28.394970</td>\n",
       "    </tr>\n",
       "  </tbody>\n",
       "</table>\n",
       "</div>"
      ],
      "text/plain": [
       "             temperature   humidity\n",
       "year season                        \n",
       "2016 fall      15.182122  61.107800\n",
       "     spring    14.699303  49.456428\n",
       "     summer    24.510443  79.468291\n",
       "     winter     6.408534  31.659593\n",
       "2017 fall      15.682703  60.184843\n",
       "     spring    14.546191  50.451363\n",
       "     summer    25.355923  80.619643\n",
       "     winter     5.363609  28.394970"
      ]
     },
     "execution_count": 34,
     "metadata": {},
     "output_type": "execute_result"
    }
   ],
   "source": [
    "df_tokyo_weather.groupby([\"year\", \"season\"]).mean()"
   ]
  },
  {
   "cell_type": "code",
   "execution_count": 36,
   "id": "2a7d7c34-1d34-4e24-b329-9ca8aa93d4e9",
   "metadata": {},
   "outputs": [
    {
     "name": "stdout",
     "output_type": "stream",
     "text": [
      "<class 'pandas.core.frame.DataFrame'>\n",
      "RangeIndex: 731 entries, 0 to 730\n",
      "Data columns (total 5 columns):\n",
      " #   Column       Non-Null Count  Dtype         \n",
      "---  ------       --------------  -----         \n",
      " 0   date         731 non-null    datetime64[ns]\n",
      " 1   temperature  731 non-null    float64       \n",
      " 2   humidity     731 non-null    float64       \n",
      " 3   season       731 non-null    object        \n",
      " 4   year         731 non-null    int64         \n",
      "dtypes: datetime64[ns](1), float64(2), int64(1), object(1)\n",
      "memory usage: 28.7+ KB\n"
     ]
    }
   ],
   "source": [
    "df_tokyo_weather.info()"
   ]
  },
  {
   "cell_type": "code",
   "execution_count": 35,
   "id": "0ca7f633-930d-44d7-874c-a0ab01fe1782",
   "metadata": {},
   "outputs": [],
   "source": [
    "output_path = Path(\"../data/preprocessed-data/tokyo_weather.csv\")\n",
    "df_tokyo_weather.to_csv(output_path, index=False)"
   ]
  },
  {
   "cell_type": "code",
   "execution_count": null,
   "id": "55973578-4da9-47f2-8d87-6cbdca31b88c",
   "metadata": {},
   "outputs": [],
   "source": []
  }
 ],
 "metadata": {
  "kernelspec": {
   "display_name": "Python 3 (ipykernel)",
   "language": "python",
   "name": "python3"
  },
  "language_info": {
   "codemirror_mode": {
    "name": "ipython",
    "version": 3
   },
   "file_extension": ".py",
   "mimetype": "text/x-python",
   "name": "python",
   "nbconvert_exporter": "python",
   "pygments_lexer": "ipython3",
   "version": "3.10.6"
  }
 },
 "nbformat": 4,
 "nbformat_minor": 5
}
